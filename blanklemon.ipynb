{
 "cells": [
  {
   "cell_type": "code",
   "execution_count": 69,
   "metadata": {
    "scrolled": true
   },
   "outputs": [
    {
     "name": "stderr",
     "output_type": "stream",
     "text": [
      "/root/.pyenv/versions/jupyter3/lib/python3.6/site-packages/ipykernel_launcher.py:54: DataConversionWarning:\n",
      "\n",
      "Data with input dtype int64, float64 were all converted to float64 by StandardScaler.\n",
      "\n",
      "/root/.pyenv/versions/jupyter3/lib/python3.6/site-packages/ipykernel_launcher.py:55: DeprecationWarning:\n",
      "\n",
      "\n",
      ".ix is deprecated. Please use\n",
      ".loc for label based indexing or\n",
      ".iloc for positional indexing\n",
      "\n",
      "See the documentation here:\n",
      "http://pandas.pydata.org/pandas-docs/stable/indexing.html#ix-indexer-is-deprecated\n",
      "\n"
     ]
    },
    {
     "data": {
      "text/html": [
       "<div style=\"background-color:rgb(84,48,5);height:20px;width:20px;display:inline-block;\"></div><div style=\"background-color:rgb(140,81,10);height:20px;width:20px;display:inline-block;\"></div><div style=\"background-color:rgb(191,129,45);height:20px;width:20px;display:inline-block;\"></div><div style=\"background-color:rgb(223,194,125);height:20px;width:20px;display:inline-block;\"></div><div style=\"background-color:rgb(246,232,195);height:20px;width:20px;display:inline-block;\"></div><div style=\"background-color:rgb(199,234,229);height:20px;width:20px;display:inline-block;\"></div><div style=\"background-color:rgb(128,205,193);height:20px;width:20px;display:inline-block;\"></div><div style=\"background-color:rgb(53,151,143);height:20px;width:20px;display:inline-block;\"></div><div style=\"background-color:rgb(1,102,94);height:20px;width:20px;display:inline-block;\"></div><div style=\"background-color:rgb(0,60,48);height:20px;width:20px;display:inline-block;\"></div>"
      ],
      "text/plain": [
       "<IPython.core.display.HTML object>"
      ]
     },
     "execution_count": 69,
     "metadata": {},
     "output_type": "execute_result"
    }
   ],
   "source": [
    "import numpy as np\n",
    "import pandas as pd\n",
    "import scipy.stats as stats\n",
    "import matplotlib.pyplot as plt\n",
    "import seaborn as sns\n",
    "\n",
    "\n",
    "from sklearn import linear_model, neighbors, ensemble, naive_bayes, svm\n",
    "from sklearn.model_selection import train_test_split\n",
    "from sklearn.metrics import roc_auc_score, confusion_matrix, classification_report\n",
    "from sklearn import preprocessing\n",
    "\n",
    "from imblearn.over_sampling import SMOTE, SMOTENC\n",
    "\n",
    "import plotly\n",
    "plotly.tools.set_credentials_file(username='extralime', api_key='q3tUGZrv40fkKyR4uPuL')\n",
    "import plotly.plotly as py\n",
    "import plotly.graph_objs as go\n",
    "import colorlover as cl\n",
    "\n",
    "from IPython.display import Image\n",
    "from IPython.display import HTML\n",
    "\n",
    "import warnings\n",
    "\n",
    "warnings.filterwarnings(\n",
    "    module='scipy',\n",
    "    action='ignore',\n",
    "    message='Using a')\n",
    "\n",
    "warnings.filterwarnings(\n",
    "    module='sklearn',\n",
    "    action='ignore',\n",
    "    message='Data with')\n",
    "warnings.filterwarnings(\n",
    "    module='pandas',\n",
    "    action='ignore',\n",
    "    message='.ix')\n",
    "\n",
    "from sklearn.preprocessing import StandardScaler\n",
    "from sklearn.base import BaseEstimator, TransformerMixin\n",
    "\n",
    "class CustomScaler(BaseEstimator,TransformerMixin): \n",
    "    def __init__(self,columns,copy=True,with_mean=True,with_std=True):\n",
    "        self.scaler = StandardScaler(copy,with_mean,with_std)\n",
    "        self.columns = columns\n",
    "\n",
    "    def fit(self, X, y=None):\n",
    "        self.scaler.fit(X[self.columns], y)\n",
    "        return self\n",
    "\n",
    "    def transform(self, X, y=None, copy=None):\n",
    "        init_col_order = X.columns\n",
    "        X_scaled = pd.DataFrame(self.scaler.transform(X[self.columns]), columns=self.columns)\n",
    "        X_not_scaled = X.ix[:,~X.columns.isin(self.columns)]\n",
    "        return pd.concat([X_not_scaled, X_scaled], axis=1)[init_col_order]\n",
    "\n",
    "\n",
    "#import the data, manage nulls and date field\n",
    "df = pd.read_csv('lemon_train.csv')\n",
    "\n",
    "df.PurchDate = pd.to_datetime(df.PurchDate)\n",
    "df['pyear'] = df['PurchDate'].dt.year.astype(int)\n",
    "df['pmonth'] = df['PurchDate'].dt.month.astype(int)\n",
    "df['pday'] = df['PurchDate'].dt.day.astype(int)\n",
    "#Drop the date and other columns\n",
    "df.drop(['RefId', 'BYRNO', 'AUCGUART', 'PRIMEUNIT',\n",
    "         'VNZIP1','WheelType', 'VehYear','PurchDate'],1,inplace=True)\n",
    "df.dropna(inplace=True)\n",
    "#add 1 to vehicle age (for math)\n",
    "df.VehicleAge = [x+1 for x in df.VehicleAge]\n",
    "\n",
    "#Separate and combine columns of interest\n",
    "models = df.Model\n",
    "submods = df.SubModel\n",
    "trims = df.Trim\n",
    "chars = df[['Model','SubModel','Trim']] \n",
    "\n",
    "#keyword list for model characteristics\n",
    "mod_chars = ['2WD','V6','4C','PICKUP','6C','FWD',\n",
    "             '4WD','AWD','SFI','EFI','DOHC','I4','MPI']\n",
    "\n",
    "#keyowrd list for submodel characteristics\n",
    "submod_chars = ['SEDAN','4D','EXT','CAB','2D','CAB','WAGON',\n",
    "                'REG','FFV','PASSENGER','SUV','SPORT',\n",
    "                'UTILITY','QUAD','COUPE','MINIVAN','CUV']\n",
    "\n",
    "#Create a dataframe and extract keywords from model and submodel.\n",
    "sub_val_sets, mod_val_sets = pd.DataFrame(),pd.DataFrame()\n",
    "\n",
    "for key in submod_chars:\n",
    "    subs = np.where(submods.str.contains(key),1,0) #create array for dummied char prescence    \n",
    "    sub_val_sets[key] = subs #insert to dataframe\n",
    "for key in mod_chars:\n",
    "    mods = np.where(models.str.contains(key),1,0)\n",
    "    mod_val_sets[key] = mods\n",
    "\n",
    "#combine the two characteristic sets\n",
    "char_dummies = pd.concat([mod_val_sets,sub_val_sets],axis=1)  \n",
    "\n",
    "displacement = chars.SubModel.str.split('.').reset_index()\n",
    "disp_ok = []\n",
    "#Only keep entries with engine size len(Submodel) == 2\n",
    "for model in displacement.SubModel:\n",
    "    if len(model) == 2:\n",
    "        disp_ok.append(model)\n",
    "        \n",
    "#Finally take the last element from 1st list, insert '.' add lasr element of 2nd list\n",
    "displacements = []\n",
    "for i in range(len(disp_ok)):\n",
    "    beg = disp_ok[i][0][-1]\n",
    "    end = disp_ok[i][1][0]\n",
    "    whole = beg+'.'+end\n",
    "    displacements.append(whole)\n",
    "displacements = pd.Series(displacements)\n",
    "ds_val_cnts = displacements.value_counts().reset_index()\n",
    "\n",
    "#create dummie matrix for engine displacements\n",
    "disp_keys = pd.DataFrame()\n",
    "for key in ds_val_cnts['index']:\n",
    "    dsps = np.where(df.SubModel.str.contains(key),1,0) #create array for dummied char prescence    \n",
    "    disp_keys[key] = dsps #insert to dataframe\n",
    "    \n",
    "#combine the three new dataframes\n",
    "mod_val_sets.reset_index(drop=True,inplace=True)\n",
    "sub_val_sets.reset_index(drop=True,inplace=True)\n",
    "disp_keys.reset_index(drop=True,inplace=True)\n",
    "\n",
    "\n",
    "\n",
    "#subtract everything from everything\n",
    "plodf= df[['MMRAcquisitionAuctionAveragePrice', 'MMRAcquisitionAuctionCleanPrice',\n",
    " 'MMRAcquisitionRetailAveragePrice', 'MMRAcquisitonRetailCleanPrice',\n",
    " 'MMRCurrentAuctionAveragePrice', 'MMRCurrentAuctionCleanPrice',\n",
    " 'MMRCurrentRetailAveragePrice', 'MMRCurrentRetailCleanPrice',\n",
    " 'VehicleAge','VehOdo','WarrantyCost','IsBadBuy']].copy()\n",
    "plodf.dropna(inplace=True)\n",
    "plodf['crcp_cacp'] = plodf.MMRCurrentRetailCleanPrice - plodf.MMRCurrentAuctionCleanPrice\n",
    "plodf['arcp_aacp'] = plodf.MMRAcquisitonRetailCleanPrice - plodf.MMRAcquisitionAuctionCleanPrice\n",
    "plodf['crap_caap'] = plodf.MMRCurrentRetailAveragePrice - plodf.MMRCurrentAuctionAveragePrice\n",
    "plodf['arap_aaap'] = plodf.MMRAcquisitionRetailAveragePrice - plodf.MMRAcquisitionAuctionAveragePrice\n",
    "\n",
    "plodf['caap_aaap'] = plodf.MMRCurrentAuctionAveragePrice - plodf.MMRAcquisitionAuctionAveragePrice\n",
    "plodf['cacp_aacp'] = plodf.MMRCurrentAuctionCleanPrice - plodf.MMRAcquisitionAuctionCleanPrice\n",
    "plodf['crap_arap'] = plodf.MMRCurrentRetailAveragePrice - plodf.MMRAcquisitionRetailAveragePrice\n",
    "plodf['crcp_arcp'] = plodf.MMRCurrentRetailCleanPrice - plodf.MMRAcquisitonRetailCleanPrice\n",
    "\n",
    "plodf['crcp_crap'] = plodf.MMRCurrentRetailCleanPrice - plodf.MMRCurrentRetailAveragePrice\n",
    "plodf['arcp_arap'] = plodf.MMRAcquisitonRetailCleanPrice - plodf.MMRAcquisitionRetailAveragePrice\n",
    "plodf['cacp_caap'] = plodf.MMRCurrentAuctionCleanPrice - plodf.MMRCurrentAuctionAveragePrice\n",
    "plodf['aacp_aaap'] = plodf.MMRAcquisitionAuctionCleanPrice - plodf.MMRAcquisitionAuctionAveragePrice\n",
    "\n",
    "plodf['crcp_caap'] = plodf.MMRCurrentRetailCleanPrice - plodf.MMRCurrentAuctionAveragePrice\n",
    "plodf['arcp_aaap'] = plodf.MMRAcquisitonRetailCleanPrice - plodf.MMRAcquisitionAuctionAveragePrice\n",
    "plodf['crap_cacp'] = plodf.MMRCurrentRetailAveragePrice - plodf.MMRCurrentAuctionCleanPrice\n",
    "plodf['arap_aacp'] = plodf.MMRAcquisitionRetailAveragePrice - plodf.MMRAcquisitionAuctionCleanPrice\n",
    "\n",
    "plodf['crcp_arap'] = plodf.MMRCurrentRetailCleanPrice - plodf.MMRAcquisitionRetailAveragePrice\n",
    "plodf['arcp_crap'] = plodf.MMRAcquisitonRetailCleanPrice - plodf.MMRCurrentRetailAveragePrice\n",
    "plodf['cacp_aaap'] = plodf.MMRCurrentAuctionCleanPrice - plodf.MMRAcquisitionAuctionAveragePrice\n",
    "plodf['aacp_caap'] = plodf.MMRAcquisitionAuctionCleanPrice - plodf.MMRCurrentAuctionAveragePrice\n",
    "\n",
    "plodf['crcp_aacp'] = plodf.MMRCurrentRetailCleanPrice - plodf.MMRAcquisitionAuctionCleanPrice\n",
    "plodf['arcp_cacp'] = plodf.MMRAcquisitonRetailCleanPrice - plodf.MMRCurrentAuctionCleanPrice\n",
    "plodf['crap_aaap'] = plodf.MMRCurrentRetailAveragePrice - plodf.MMRAcquisitionAuctionAveragePrice\n",
    "plodf['arap_caap'] = plodf.MMRAcquisitionRetailAveragePrice - plodf.MMRCurrentAuctionAveragePrice\n",
    "\n",
    "plodf['crcp_crap_cacp_caap'] = plodf['crcp_crap']-plodf['cacp_caap']\n",
    "plodf['arcp_arap_aacp_aaap'] = plodf['arcp_arap']-plodf['aacp_aaap']\n",
    "\n",
    "plodf['crcp_cacp_arcp_aacp'] = plodf['crcp_cacp']-plodf['arcp_aacp']\n",
    "plodf['crap_caap_arap_aaap'] = plodf['crap_caap']-plodf['arap_aaap']\n",
    "\n",
    "plodf['crcp_caap_arcp_aaap'] = plodf['crcp_caap']-plodf['arcp_aaap']\n",
    "plodf['crap_cacp_arap_aacp'] = plodf['crap_cacp']-plodf['arap_aacp']\n",
    "\n",
    "plodf['crcp_arap_arcp_crap'] = plodf['crcp_arap']-plodf['arcp_crap']\n",
    "plodf['cacp_aaap_aacp_caap'] = plodf['cacp_aaap']-plodf['aacp_caap']\n",
    "\n",
    "plodf['crcp_aacp_arcp_cacp'] = plodf['crcp_caap']-plodf['arcp_aaap']\n",
    "plodf['crap_aaap_arap_caap'] = plodf['crap_cacp']-plodf['arap_aacp']\n",
    "\n",
    "plodf['crcp_cacp_war'] = plodf['crcp_cacp']* df.WarrantyCost/df.VehicleAge\n",
    "plodf['crcp_cacp_logwar'] = plodf['crcp_cacp_war']\n",
    "plodf['crcp_cacp_losqwar'] = plodf['crcp_cacp']* df.WarrantyCost/np.sqrt(df.VehicleAge)\n",
    "plodf['crap_aaap_war'] = plodf['crap_aaap']* df.WarrantyCost/df.VehicleAge\n",
    "plodf['log_war_age'] = df.WarrantyCost/df.VehicleAge\n",
    "plodf['odo_age'] = np.log(df.VehOdo/df.VehicleAge)\n",
    "plodf['odo_war'] = np.log((df.WarrantyCost/df.VehOdo))\n",
    "plodf['another'] = np.log(df.WarrantyCost/df.VehOdo**2)\n",
    "plodf['ugh'] = plodf.VehicleAge * (plodf.crcp_caap/plodf.WarrantyCost)\n",
    "        \n",
    "cont_df = plodf[['odo_age','log_war_age','crcp_cacp_war']]\n",
    "\n",
    "#combine the three new dataframes\n",
    "mod_val_sets.reset_index(drop=True,inplace=True)\n",
    "sub_val_sets.reset_index(drop=True,inplace=True)\n",
    "disp_keys.reset_index(drop=True,inplace=True)\n",
    "cont_df.reset_index(drop=True,inplace=True)\n",
    "\n",
    "add_feats = pd.concat([mod_val_sets,sub_val_sets,disp_keys,cont_df],axis=1)\n",
    "\n",
    "#combine new features to our existing attributes\n",
    "df.reset_index(drop=True,inplace=True)\n",
    "model_df = pd.concat([df,add_feats],axis=1)\n",
    "model_df.drop(['SubModel'],1,inplace=True)\n",
    "model_df.Model = model_df.Model.str.split().str[0].str.strip()\n",
    "model_df.Transmission = np.where(model_df.Transmission == 'AUTO',1,0)\n",
    "\n",
    "scale_cols = ['VehicleAge','MMRAcquisitionAuctionAveragePrice', 'VehOdo',\n",
    "       'MMRAcquisitionAuctionCleanPrice', 'MMRAcquisitionRetailAveragePrice',\n",
    "       'MMRAcquisitonRetailCleanPrice', 'MMRCurrentAuctionAveragePrice',\n",
    "       'MMRCurrentAuctionCleanPrice', 'MMRCurrentRetailAveragePrice',\n",
    "       'MMRCurrentRetailCleanPrice','WarrantyCost','odo_age', 'log_war_age', 'crcp_cacp_war']\n",
    "scale = CustomScaler(columns=scale_cols)\n",
    "\n",
    "model_df = scale.fit_transform(model_df)\n",
    "\n",
    "colors = cl.to_rgb(cl.scales['10']['div']['BrBG'])\n",
    "HTML(cl.to_html( cl.scales['10']['div']['BrBG'] ))"
   ]
  },
  {
   "cell_type": "code",
   "execution_count": 128,
   "metadata": {
    "scrolled": true
   },
   "outputs": [
    {
     "name": "stdout",
     "output_type": "stream",
     "text": [
      "\n",
      "\t\tClassification Report: LRC (l1)\n",
      "\n",
      "              precision    recall  f1-score   support\n",
      "\n",
      "           0       0.91      0.96      0.94     24305\n",
      "           1       0.27      0.13      0.18      2605\n",
      "\n",
      "   micro avg       0.88      0.88      0.88     26910\n",
      "   macro avg       0.59      0.55      0.56     26910\n",
      "weighted avg       0.85      0.88      0.86     26910\n",
      "\n",
      "ROC_AUC SCORE: 0.55\n"
     ]
    }
   ],
   "source": [
    "\n",
    "X = model_df.drop(['IsBadBuy'],1)\n",
    "X = pd.get_dummies(X)\n",
    "y = model_df.IsBadBuy\n",
    "\n",
    "X_train, X_test, y_train, y_test = train_test_split(X,y,test_size=.4,random_state=1667)\n",
    "lrc = linear_model.LogisticRegression(penalty='l1',class_weight={0:1,1:3},\n",
    "                                      solver='liblinear',C=10, max_iter=300)\n",
    "lrc.fit(X_train,y_train)\n",
    "y_pred = lrc.predict(X_test)\n",
    "print('\\n\\t\\tClassification Report: KNN k=5\\n')\n",
    "print(classification_report(y_test,y_pred))\n",
    "print(\"ROC_AUC SCORE: {}\".format(round(roc_auc_score(y_test,y_pred),2)))"
   ]
  },
  {
   "cell_type": "code",
   "execution_count": 31,
   "metadata": {},
   "outputs": [],
   "source": [
    "X_train, X_test, y_train, y_test = train_test_split(X,y,test_size=.4,random_state=1667)"
   ]
  },
  {
   "cell_type": "code",
   "execution_count": 67,
   "metadata": {},
   "outputs": [
    {
     "data": {
      "text/plain": [
       "LogisticRegression(C=10, class_weight={0: 1, 1: 3}, dual=False,\n",
       "          fit_intercept=True, intercept_scaling=1, max_iter=300,\n",
       "          multi_class='warn', n_jobs=None, penalty='l1', random_state=None,\n",
       "          solver='liblinear', tol=0.0001, verbose=0, warm_start=False)"
      ]
     },
     "execution_count": 67,
     "metadata": {},
     "output_type": "execute_result"
    }
   ],
   "source": [
    "lrc = linear_model.LogisticRegression(penalty='l1',class_weight={0:1,1:3},\n",
    "                                      solver='liblinear',C=10, max_iter=300)\n",
    "lrc.fit(X_train,y_train)\n",
    "y_pred = lrc.predict(X_test)\n",
    "print('\\n\\t\\tClassification Report: LRC (l1)\\n')\n",
    "print(classification_report(y_test,y_pred))\n",
    "print(\"ROC_AUC SCORE: {}\".format(round(roc_auc_score(y_test,y_pred),2)))\n"
   ]
  },
  {
   "cell_type": "code",
   "execution_count": 80,
   "metadata": {
    "scrolled": true
   },
   "outputs": [
    {
     "name": "stdout",
     "output_type": "stream",
     "text": [
      "\n",
      "\t\tClassification Report: LRC (l1)\n",
      "\n",
      "              precision    recall  f1-score   support\n",
      "\n",
      "           0       0.91      0.96      0.94     24305\n",
      "           1       0.27      0.13      0.18      2605\n",
      "\n",
      "   micro avg       0.88      0.88      0.88     26910\n",
      "   macro avg       0.59      0.55      0.56     26910\n",
      "weighted avg       0.85      0.88      0.86     26910\n",
      "\n",
      "ROC_AUC SCORE: 0.55\n"
     ]
    }
   ],
   "source": [
    "y_pred = lrc.predict(X_test)\n",
    "print('\\n\\t\\tClassification Report: LRC (l1)\\n')\n",
    "print(classification_report(y_test,y_pred))\n",
    "print(\"ROC_AUC SCORE: {}\".format(round(roc_auc_score(y_test,y_pred),2)))"
   ]
  },
  {
   "cell_type": "code",
   "execution_count": 73,
   "metadata": {},
   "outputs": [
    {
     "data": {
      "image/png": "[encoded data removed]",
      "text/plain": [
       "<Figure size 432x288 with 2 Axes>"
      ]
     },
     "metadata": {},
     "output_type": "display_data"
    }
   ],
   "source": [
    "conmat = confusion_matrix(y_test,y_pred)\n",
    "sns.heatmap(conmat,annot=True,fmt='d',cmap='mako_r',cbar=True)\n",
    "plt.savefig('1st LLRC Scores',transparent=False)"
   ]
  },
  {
   "cell_type": "code",
   "execution_count": 115,
   "metadata": {},
   "outputs": [
    {
     "name": "stdout",
     "output_type": "stream",
     "text": [
      "\n",
      "\t\tClassification Report: Logistic Regression (l1)\n",
      "\n",
      "              precision    recall  f1-score   support\n",
      "\n",
      "           0       0.92      0.91      0.91     24305\n",
      "           1       0.22      0.23      0.22      2605\n",
      "\n",
      "   micro avg       0.85      0.85      0.85     26910\n",
      "   macro avg       0.57      0.57      0.57     26910\n",
      "weighted avg       0.85      0.85      0.85     26910\n",
      "\n",
      "ROC_AUC SCORE: 0.57\n"
     ]
    }
   ],
   "source": [
    "rfc = ensemble.RandomForestClassifier(class_weight={0: 1, 1: 6}, criterion='gini', max_depth=7,\n",
    "                                      max_leaf_nodes=None, min_impurity_decrease=0.0,\n",
    "            min_impurity_split=None, min_samples_leaf=1,\n",
    "            min_samples_split=2, min_weight_fraction_leaf=0.0,\n",
    "            n_estimators=300)\n",
    "X = model_df.drop(['IsBadBuy'],1)\n",
    "X = pd.get_dummies(X)\n",
    "y = model_df.IsBadBuy\n",
    "X_train, X_test, y_train, y_test = train_test_split(X,y,test_size=.4,random_state=1667)\n",
    "rfc.fit(X_train,y_train)\n",
    "y_pred = rfc.predict(X_test)\n",
    "print('\\n\\t\\tClassification Report: Logistic Regression (l1)\\n')\n",
    "print(classification_report(y_test,y_pred))\n",
    "print(\"ROC_AUC SCORE: {}\".format(round(roc_auc_score(y_test,y_pred),2)))"
   ]
  },
  {
   "cell_type": "code",
   "execution_count": 113,
   "metadata": {
    "scrolled": true
   },
   "outputs": [
    {
     "data": {
      "image/png": "[encoded data removed]",
      "text/plain": [
       "<Figure size 432x288 with 2 Axes>"
      ]
     },
     "metadata": {},
     "output_type": "display_data"
    }
   ],
   "source": [
    "conmat = confusion_matrix(y_test,y_pred)\n",
    "sns.heatmap(conmat,annot=True,fmt='d',cmap='mako_r',cbar=True)\n",
    "plt.savefig('1st RFC Scores',transparent=False)"
   ]
  },
  {
   "cell_type": "code",
   "execution_count": 125,
   "metadata": {},
   "outputs": [
    {
     "name": "stderr",
     "output_type": "stream",
     "text": [
      "/root/.pyenv/versions/3.6.0/lib/python3.6/site-packages/sklearn/svm/base.py:196: FutureWarning:\n",
      "\n",
      "The default value of gamma will change from 'auto' to 'scale' in version 0.22 to account better for unscaled features. Set gamma explicitly to 'auto' or 'scale' to avoid this warning.\n",
      "\n"
     ]
    },
    {
     "name": "stdout",
     "output_type": "stream",
     "text": [
      "\n",
      "\t\tClassification Report: Logistic Regression (l1)\n",
      "\n",
      "              precision    recall  f1-score   support\n",
      "\n",
      "           0       0.91      0.93      0.92      7235\n",
      "           1       0.13      0.11      0.12       765\n",
      "\n",
      "   micro avg       0.85      0.85      0.85      8000\n",
      "   macro avg       0.52      0.52      0.52      8000\n",
      "weighted avg       0.83      0.85      0.84      8000\n",
      "\n",
      "ROC_AUC SCORE: 0.52\n"
     ]
    }
   ],
   "source": [
    "svc = svm.SVC(C=15,class_weight={0:1,1:6})\n",
    "\n",
    "svc_df = model_df[:20000]\n",
    "\n",
    "X = svc_df.drop(['IsBadBuy'],1)\n",
    "X = pd.get_dummies(X)\n",
    "y = svc_df.IsBadBuy\n",
    "X_train, X_test, y_train, y_test = train_test_split(X,y,test_size=.4,random_state=1667)\n",
    "svc.fit(X_train,y_train)\n",
    "y_pred = svc.predict(X_test)\n",
    "print('\\n\\t\\tClassification Report: SVC (rbf)\\n')\n",
    "print(classification_report(y_test,y_pred))\n",
    "print(\"ROC_AUC SCORE: {}\".format(round(roc_auc_score(y_test,y_pred),2)))"
   ]
  },
  {
   "cell_type": "code",
   "execution_count": 127,
   "metadata": {
    "scrolled": true
   },
   "outputs": [
    {
     "data": {
      "image/png": "[encoded data removed]",
      "text/plain": [
       "<Figure size 432x288 with 2 Axes>"
      ]
     },
     "metadata": {},
     "output_type": "display_data"
    }
   ],
   "source": [
    "conmat = confusion_matrix(y_test,y_pred)\n",
    "sns.heatmap(conmat,annot=True,fmt='d',cmap='mako_r',cbar=True)\n",
    "plt.savefig('1st SVC Scores',transparent=False)"
   ]
  },
  {
   "cell_type": "code",
   "execution_count": null,
   "metadata": {},
   "outputs": [],
   "source": []
  },
  {
   "cell_type": "code",
   "execution_count": 140,
   "metadata": {},
   "outputs": [],
   "source": []
  },
  {
   "cell_type": "code",
   "execution_count": 141,
   "metadata": {},
   "outputs": [
    {
     "name": "stdout",
     "output_type": "stream",
     "text": [
      "[[23600   705]\n",
      " [ 2456   149]]\n",
      "              precision    recall  f1-score   support\n",
      "\n",
      "           0       0.91      0.97      0.94     24305\n",
      "           1       0.17      0.06      0.09      2605\n",
      "\n",
      "   micro avg       0.88      0.88      0.88     26910\n",
      "   macro avg       0.54      0.51      0.51     26910\n",
      "weighted avg       0.83      0.88      0.85     26910\n",
      "\n",
      "0.5140956597242102\n"
     ]
    }
   ],
   "source": [
    "knn = neighbors.KNeighborsClassifier(n_neighbors=4,leaf_size=50,weights='distance')\n",
    "X = model_df.drop(['IsBadBuy'],1)\n",
    "X = pd.get_dummies(X)\n",
    "y = model_df.IsBadBuy\n",
    "X_train, X_test, y_train, y_test = train_test_split(X,y,test_size=.4,random_state=1667)\n",
    "knn.fit(X_train,y_train)\n",
    "y_pred = knn.predict(X_test)\n",
    "print(confusion_matrix(y_test,y_pred))\n",
    "print(classification_report(y_test,y_pred))\n",
    "print(roc_auc_score(y_test,y_pred))"
   ]
  },
  {
   "cell_type": "code",
   "execution_count": 144,
   "metadata": {},
   "outputs": [
    {
     "name": "stdout",
     "output_type": "stream",
     "text": [
      "\n",
      "\t\tClassification Report: KNN k=4\n",
      "\n",
      "              precision    recall  f1-score   support\n",
      "\n",
      "           0       0.91      0.97      0.94     24305\n",
      "           1       0.17      0.06      0.09      2605\n",
      "\n",
      "   micro avg       0.88      0.88      0.88     26910\n",
      "   macro avg       0.54      0.51      0.51     26910\n",
      "weighted avg       0.83      0.88      0.85     26910\n",
      "\n",
      "ROC_AUC SCORE: 0.51\n"
     ]
    }
   ],
   "source": [
    "print('\\n\\t\\tClassification Report: KNN k=4\\n')\n",
    "print(classification_report(y_test,y_pred))\n",
    "print(\"ROC_AUC SCORE: {}\".format(round(roc_auc_score(y_test,y_pred),2)))"
   ]
  },
  {
   "cell_type": "code",
   "execution_count": 142,
   "metadata": {},
   "outputs": [
    {
     "data": {
      "image/png": "[encoded data removed]",
      "text/plain": [
       "<Figure size 432x288 with 2 Axes>"
      ]
     },
     "metadata": {},
     "output_type": "display_data"
    }
   ],
   "source": [
    "conmat = confusion_matrix(y_test,y_pred)\n",
    "sns.heatmap(conmat,annot=True,fmt='d',cmap='mako_r',cbar=True)\n",
    "plt.savefig('1st KNN Scores',transparent=False)"
   ]
  },
  {
   "cell_type": "code",
   "execution_count": null,
   "metadata": {},
   "outputs": [],
   "source": [
    "X = test_mod.drop(['IsBadBuy'],1)\n",
    "X = pd.get_dummies(X)\n",
    "#X = scaler.fit_transform(X)\n",
    "y = test_mod.IsBadBuy\n",
    "X_train, X_test, y_train, y_test = train_test_split(X,y,test_size=.4,random_state=167)\n",
    "sm = SMOTE(random_state=163,sampling_strategy=.3)\n",
    "X_res, y_res = sm.fit_resample(X_train, y_train)"
   ]
  },
  {
   "cell_type": "code",
   "execution_count": null,
   "metadata": {},
   "outputs": [],
   "source": []
  },
  {
   "cell_type": "code",
   "execution_count": null,
   "metadata": {},
   "outputs": [],
   "source": [
    "X_train = X_res\n",
    "y_train = y_res"
   ]
  },
  {
   "cell_type": "code",
   "execution_count": null,
   "metadata": {},
   "outputs": [],
   "source": [
    "X = model_df.drop(['IsBadBuy'],1)\n",
    "X = pd.get_dummies(X)\n",
    "\n",
    "y = model_df.IsBadBuy\n",
    "\n",
    "X_train, X_test, y_train, y_test = train_test_split(X,y,test_size=.4,random_state=1167)"
   ]
  },
  {
   "cell_type": "code",
   "execution_count": 159,
   "metadata": {},
   "outputs": [
    {
     "name": "stderr",
     "output_type": "stream",
     "text": [
      "/root/.pyenv/versions/3.6.0/lib/python3.6/site-packages/sklearn/linear_model/logistic.py:432: FutureWarning:\n",
      "\n",
      "Default solver will be changed to 'lbfgs' in 0.22. Specify a solver to silence this warning.\n",
      "\n"
     ]
    },
    {
     "data": {
      "text/plain": [
       "LogisticRegression(C=1.0, class_weight=None, dual=False, fit_intercept=True,\n",
       "          intercept_scaling=1, max_iter=100, multi_class='warn',\n",
       "          n_jobs=None, penalty='l2', random_state=None, solver='warn',\n",
       "          tol=0.0001, verbose=0, warm_start=False)"
      ]
     },
     "execution_count": 159,
     "metadata": {},
     "output_type": "execute_result"
    }
   ],
   "source": [
    "lrc = linear_model.LogisticRegression()\n",
    "lrc.fit(X_train,y_train)"
   ]
  },
  {
   "cell_type": "code",
   "execution_count": null,
   "metadata": {},
   "outputs": [],
   "source": [
    "#run a loop test a number of different parameters on the same data\n",
    "CS =[]\n",
    "TN = []\n",
    "FN = []\n",
    "FP = []\n",
    "TP = []\n",
    "class_w = []\n",
    "roc_auc = []\n",
    "for i in [.2,.5,.8,2,5,10,15,20]:    \n",
    "    for l in range(1,16):\n",
    "        params = {'C': i,\n",
    "              'penalty':'l1',\n",
    "              'solver': 'liblinear',\n",
    "              'class_weight':{0:1,1:l},\n",
    "              'max_iter': 300  }\n",
    "        # Initialize and fit the model.\n",
    "        clf = linear_model.LogisticRegression(**params)\n",
    "        clf.fit(X_train, y_train)\n",
    "        y_pred = clf.predict(X_test)\n",
    "        # Accuracy tables.\n",
    "        conf = confusion_matrix(y_test,y_pred)\n",
    "        tns = conf[0][0]\n",
    "        fps = conf[0][1]\n",
    "        tps = conf[1][1]\n",
    "        fns = conf[1][0]\n",
    "        #append info\n",
    "        TN.append(tns)\n",
    "        FN.append(fns)\n",
    "        FP.append(fps)\n",
    "        TP.append(tps)\n",
    "        class_w.append('1:{}'.format(l))\n",
    "        roc_auc.append(roc_auc_score(y_test,y_pred))\n",
    "        CS.append(i)"
   ]
  },
  {
   "cell_type": "code",
   "execution_count": 166,
   "metadata": {},
   "outputs": [],
   "source": [
    "results = pd.DataFrame()\n",
    "results['cs'] = CS\n",
    "results['classw'] = class_w\n",
    "results['TN'] = TN\n",
    "results['FN'] = FN\n",
    "results['FP'] = FP \n",
    "results['TP'] = TP\n",
    "results['roc_auc'] = roc_auc\n"
   ]
  },
  {
   "cell_type": "code",
   "execution_count": 168,
   "metadata": {},
   "outputs": [],
   "source": [
    "results.to_csv('lrcloop.csv')"
   ]
  },
  {
   "cell_type": "code",
   "execution_count": 148,
   "metadata": {},
   "outputs": [
    {
     "name": "stdout",
     "output_type": "stream",
     "text": [
      "\n",
      "\t\tClassification Report: Logistic Regression (l1)\n",
      "\n",
      "              precision    recall  f1-score   support\n",
      "\n",
      "           0       0.94      0.62      0.75     24305\n",
      "           1       0.15      0.63      0.25      2605\n",
      "\n",
      "   micro avg       0.62      0.62      0.62     26910\n",
      "   macro avg       0.55      0.63      0.50     26910\n",
      "weighted avg       0.86      0.62      0.70     26910\n",
      "\n",
      "ROC_AUC SCORE: 0.63\n"
     ]
    },
    {
     "data": {
      "image/png": "[encoded data removed]",
      "text/plain": [
       "<Figure size 432x288 with 2 Axes>"
      ]
     },
     "metadata": {},
     "output_type": "display_data"
    }
   ],
   "source": [
    "rfc = ensemble.RandomForestClassifier(class_weight={0: 1, 1: 10}, criterion='entropy', max_depth=5,\n",
    "                                      max_leaf_nodes=None, min_impurity_decrease=0.0,\n",
    "            min_impurity_split=None, min_samples_leaf=1,\n",
    "            min_samples_split=2, min_weight_fraction_leaf=0.0,\n",
    "            n_estimators=5000)\n",
    "X = model_df.drop(['IsBadBuy'],1)\n",
    "X = pd.get_dummies(X)\n",
    "y = model_df.IsBadBuy\n",
    "X_train, X_test, y_train, y_test = train_test_split(X,y,test_size=.4,random_state=1667)\n",
    "rfc.fit(X_train,y_train)\n",
    "y_pred = rfc.predict(X_test)\n",
    "print('\\n\\t\\tClassification Report: Logistic Regression (l1)\\n')\n",
    "print(classification_report(y_test,y_pred))\n",
    "print(\"ROC_AUC SCORE: {}\".format(round(roc_auc_score(y_test,y_pred),2)))\n",
    "conmat = confusion_matrix(y_test,y_pred)\n",
    "sns.heatmap(conmat,annot=True,fmt='d',cmap='mako_r',cbar=True)\n",
    "plt.show()"
   ]
  },
  {
   "cell_type": "code",
   "execution_count": null,
   "metadata": {},
   "outputs": [],
   "source": []
  },
  {
   "cell_type": "code",
   "execution_count": 147,
   "metadata": {},
   "outputs": [],
   "source": [
    "smote = pd.read_csv('correctrfcsmote.csv')"
   ]
  },
  {
   "cell_type": "code",
   "execution_count": 149,
   "metadata": {},
   "outputs": [],
   "source": [
    "thing = classification_report(y_pred,y_test)"
   ]
  },
  {
   "cell_type": "code",
   "execution_count": 154,
   "metadata": {},
   "outputs": [
    {
     "name": "stdout",
     "output_type": "stream",
     "text": [
      "              precision    recall  f1-score   support\n",
      "\n",
      "           0       0.62      0.94      0.75     16079\n",
      "           1       0.63      0.15      0.25     10831\n",
      "\n",
      "   micro avg       0.62      0.62      0.62     26910\n",
      "   macro avg       0.63      0.55      0.50     26910\n",
      "weighted avg       0.63      0.62      0.55     26910\n",
      "\n"
     ]
    }
   ],
   "source": [
    "print(thing)"
   ]
  },
  {
   "cell_type": "code",
   "execution_count": 157,
   "metadata": {},
   "outputs": [
    {
     "data": {
      "text/plain": [
       "0.28367635848851136"
      ]
     },
     "execution_count": 157,
     "metadata": {},
     "output_type": "execute_result"
    }
   ],
   "source": [
    "(957+1648)/9183"
   ]
  },
  {
   "cell_type": "code",
   "execution_count": 158,
   "metadata": {},
   "outputs": [
    {
     "data": {
      "text/plain": [
       "0.10421430904933028"
      ]
     },
     "execution_count": 158,
     "metadata": {},
     "output_type": "execute_result"
    }
   ],
   "source": [
    "957/9183"
   ]
  },
  {
   "cell_type": "code",
   "execution_count": null,
   "metadata": {},
   "outputs": [],
   "source": []
  }
 ],
 "metadata": {
  "kernelspec": {
   "display_name": "Python 3",
   "language": "python",
   "name": "python3"
  },
  "language_info": {
   "codemirror_mode": {
    "name": "ipython",
    "version": 3
   },
   "file_extension": ".py",
   "mimetype": "text/x-python",
   "name": "python",
   "nbconvert_exporter": "python",
   "pygments_lexer": "ipython3",
   "version": "3.6.0"
  }
 },
 "nbformat": 4,
 "nbformat_minor": 2
}
