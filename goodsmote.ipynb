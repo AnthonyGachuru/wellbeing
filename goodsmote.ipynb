{
 "cells": [
  {
   "cell_type": "code",
   "execution_count": 11,
   "metadata": {},
   "outputs": [
    {
     "data": {
      "text/html": [
       "<div style=\"background-color:rgb(84,48,5);height:20px;width:20px;display:inline-block;\"></div><div style=\"background-color:rgb(140,81,10);height:20px;width:20px;display:inline-block;\"></div><div style=\"background-color:rgb(191,129,45);height:20px;width:20px;display:inline-block;\"></div><div style=\"background-color:rgb(223,194,125);height:20px;width:20px;display:inline-block;\"></div><div style=\"background-color:rgb(246,232,195);height:20px;width:20px;display:inline-block;\"></div><div style=\"background-color:rgb(199,234,229);height:20px;width:20px;display:inline-block;\"></div><div style=\"background-color:rgb(128,205,193);height:20px;width:20px;display:inline-block;\"></div><div style=\"background-color:rgb(53,151,143);height:20px;width:20px;display:inline-block;\"></div><div style=\"background-color:rgb(1,102,94);height:20px;width:20px;display:inline-block;\"></div><div style=\"background-color:rgb(0,60,48);height:20px;width:20px;display:inline-block;\"></div>"
      ],
      "text/plain": [
       "<IPython.core.display.HTML object>"
      ]
     },
     "execution_count": 11,
     "metadata": {},
     "output_type": "execute_result"
    }
   ],
   "source": [
    "import numpy as np\n",
    "import pandas as pd\n",
    "import scipy.stats as stats\n",
    "import matplotlib.pyplot as plt\n",
    "import seaborn as sns\n",
    "%matplotlib inline\n",
    "\n",
    "from sklearn import linear_model, neighbors, ensemble, naive_bayes, svm\n",
    "from sklearn.model_selection import train_test_split\n",
    "from sklearn.metrics import roc_auc_score, confusion_matrix, classification_report\n",
    "from sklearn import preprocessing\n",
    "\n",
    "from imblearn.over_sampling import SMOTE, SMOTENC\n",
    "\n",
    "import plotly\n",
    "plotly.tools.set_credentials_file(username='extralime', api_key='q3tUGZrv40fkKyR4uPuL')\n",
    "import plotly.plotly as py\n",
    "import plotly.graph_objs as go\n",
    "import colorlover as cl\n",
    "\n",
    "from IPython.display import Image\n",
    "from IPython.display import HTML\n",
    "\n",
    "import warnings\n",
    "\n",
    "warnings.filterwarnings(\n",
    "    module='scipy',\n",
    "    action='ignore',\n",
    "    message='Using a')\n",
    "\n",
    "def model_me(X_train,X_test, y_train, y_test):\n",
    "    knn = neighbors.KNeighborsClassifier(n_neighbors=10, weights='distance')\n",
    "    knn.fit(X_train,y_train)\n",
    "    y_pred = knn.predict(X_test)\n",
    "    print('Results of KNN:\\n')\n",
    "    print('\\nClassification Report:KNN\\n')\n",
    "    print(classification_report(y_test,y_pred))\n",
    "    print('Confusion Matrix:')\n",
    "    sns.heatmap(confusion_matrix(y_test,y_pred),annot=True,fmt='d',cbar=False)\n",
    "    plt.show()\n",
    "    print('ROC_AUC _SCORE:')\n",
    "    print(roc_auc_score(y_test,y_pred))\n",
    "    rfc = ensemble.RandomForestClassifier(n_estimators=250, class_weight='balanced',criterion='entropy')\n",
    "    rfc.fit(X_train,y_train)\n",
    "    y_pred = rfc.predict(X_test)\n",
    "    print('\\n\\nResults of Random Forest:\\n')\n",
    "    print('\\nClassification Report:RFC\\n')\n",
    "    print(classification_report(y_test,y_pred))\n",
    "    print('Confusion Matrix:')\n",
    "    sns.heatmap(confusion_matrix(y_test,y_pred),annot=True,fmt='d',cbar=False)\n",
    "    plt.show()\n",
    "    print('ROC_AUC _SCORE:')\n",
    "    print(roc_auc_score(y_test,y_pred))\n",
    "    \n",
    "    lrc = linear_model.LogisticRegression(C=10, penalty='l1')\n",
    "    lrc.fit(X_train,y_train)\n",
    "    y_pred = lrc.predict(X_test)\n",
    "    print('\\n\\nResults of Logistic Regression (lasso):\\n')\n",
    "    print('\\nClassification Report:LR1\\n')\n",
    "    print(classification_report(y_test,y_pred))\n",
    "    print('Confusion Matrix:')\n",
    "    sns.heatmap(confusion_matrix(y_test,y_pred),annot=True,fmt='d',cbar=False)\n",
    "    plt.show()\n",
    "    print('ROC_AUC _SCORE:')\n",
    "    print(roc_auc_score(y_test,y_pred))\n",
    "    lrc = linear_model.LogisticRegression(C=10, penalty='l2')\n",
    "    lrc.fit(X_train,y_train)\n",
    "    y_pred = lrc.predict(X_test)\n",
    "    print('\\n\\nResults of Logistic Regression (Ridge):\\n')\n",
    "    print('\\nClassification Report:LR2\\n')\n",
    "    print(classification_report(y_test,y_pred))\n",
    "    print('Confusion Matrix:')\n",
    "    sns.heatmap(confusion_matrix(y_test,y_pred),annot=True,fmt='d',cbar=False)\n",
    "    plt.show()\n",
    "    print('ROC_AUC _SCORE:')\n",
    "    print(roc_auc_score(y_test,y_pred))\n",
    "    gbc = ensemble.GradientBoostingClassifier(n_estimators=500,max_depth=4,loss='exponential')\n",
    "    gbc.fit(X_train,y_train)\n",
    "    y_pred = gbc.predict(X_test)\n",
    "    print('\\n\\nResults of Gradient Boosting:\\n')\n",
    "    print('\\nClassification Report:GBC\\n')\n",
    "    print(classification_report(y_test,y_pred))\n",
    "    print('Confusion Matrix:')\n",
    "    sns.heatmap(confusion_matrix(y_test,y_pred),annot=True,fmt='d',cbar=False)\n",
    "    plt.show()\n",
    "    print('ROC_AUC _SCORE:')\n",
    "    print(roc_auc_score(y_test,y_pred))\n",
    "\n",
    "\n",
    "colors = cl.to_rgb(cl.scales['10']['div']['BrBG'])\n",
    "HTML(cl.to_html( cl.scales['10']['div']['BrBG'] ))"
   ]
  },
  {
   "cell_type": "code",
   "execution_count": 12,
   "metadata": {},
   "outputs": [
    {
     "data": {
      "text/plain": [
       "(67275, 29)"
      ]
     },
     "execution_count": 12,
     "metadata": {},
     "output_type": "execute_result"
    }
   ],
   "source": [
    "#import the data, manage nulls and date field\n",
    "df = pd.read_csv('lemon_train.csv')\n",
    "\n",
    "df.PurchDate = pd.to_datetime(df.PurchDate)\n",
    "df['pyear'] = df['PurchDate'].dt.year.astype(int)\n",
    "df['pmonth'] = df['PurchDate'].dt.month.astype(int)\n",
    "df['pday'] = df['PurchDate'].dt.day.astype(int)\n",
    "#Drop the date and other columns\n",
    "df.drop(['RefId', 'BYRNO', 'AUCGUART', 'PRIMEUNIT',\n",
    "         'VNZIP1','WheelType', 'VehYear','PurchDate'],1,inplace=True)\n",
    "df.dropna(inplace=True)\n",
    "#add 1 to vehicle age (for math)\n",
    "df.VehicleAge = [x+1 for x in df.VehicleAge]\n",
    "df.shape\n"
   ]
  },
  {
   "cell_type": "markdown",
   "metadata": {},
   "source": [
    "### Create dummy variables for extracted keyword from problematic categorical variables"
   ]
  },
  {
   "cell_type": "code",
   "execution_count": 13,
   "metadata": {},
   "outputs": [],
   "source": [
    "#Separate and combine columns of interest\n",
    "models = df.Model\n",
    "submods = df.SubModel\n",
    "trims = df.Trim\n",
    "chars = df[['Model','SubModel','Trim']] \n",
    "\n",
    "#keyword list for model characteristics\n",
    "mod_chars = ['2WD','V6','4C','PICKUP','6C','FWD',\n",
    "             '4WD','AWD','SFI','EFI','DOHC','I4','MPI']\n",
    "\n",
    "#keyowrd list for submodel characteristics\n",
    "submod_chars = ['SEDAN','4D','EXT','CAB','2D','CAB','WAGON',\n",
    "                'REG','FFV','PASSENGER','SUV','SPORT',\n",
    "                'UTILITY','QUAD','COUPE','MINIVAN','CUV']\n",
    "\n",
    "#Create a dataframe and extract keywords from model and submodel.\n",
    "sub_val_sets, mod_val_sets = pd.DataFrame(),pd.DataFrame()\n",
    "\n",
    "for key in submod_chars:\n",
    "    subs = np.where(submods.str.contains(key),1,0) #create array for dummied char prescence    \n",
    "    sub_val_sets[key] = subs #insert to dataframe\n",
    "for key in mod_chars:\n",
    "    mods = np.where(models.str.contains(key),1,0)\n",
    "    mod_val_sets[key] = mods\n"
   ]
  },
  {
   "cell_type": "code",
   "execution_count": 14,
   "metadata": {},
   "outputs": [],
   "source": [
    "#combine the two characteristic sets\n",
    "char_dummies = pd.concat([mod_val_sets,sub_val_sets],axis=1)  "
   ]
  },
  {
   "cell_type": "markdown",
   "metadata": {},
   "source": [
    "# Extract engine displacement sizes"
   ]
  },
  {
   "cell_type": "code",
   "execution_count": 15,
   "metadata": {},
   "outputs": [],
   "source": [
    "displacement = chars.SubModel.str.split('.').reset_index()\n",
    "disp_ok = []\n",
    "#Only keep entries with engine size len(Submodel) == 2\n",
    "for model in displacement.SubModel:\n",
    "    if len(model) == 2:\n",
    "        disp_ok.append(model)\n",
    "        \n",
    "#Finally take the last element from 1st list, insert '.' add lasr element of 2nd list\n",
    "displacements = []\n",
    "for i in range(len(disp_ok)):\n",
    "    beg = disp_ok[i][0][-1]\n",
    "    end = disp_ok[i][1][0]\n",
    "    whole = beg+'.'+end\n",
    "    displacements.append(whole)\n",
    "displacements = pd.Series(displacements)\n",
    "ds_val_cnts = displacements.value_counts().reset_index()"
   ]
  },
  {
   "cell_type": "code",
   "execution_count": 16,
   "metadata": {},
   "outputs": [],
   "source": [
    "#create dummie matrix for engine displacements\n",
    "disp_keys = pd.DataFrame()\n",
    "for key in ds_val_cnts['index']:\n",
    "    dsps = np.where(df.SubModel.str.contains(key),1,0) #create array for dummied char prescence    \n",
    "    disp_keys[key] = dsps #insert to dataframe"
   ]
  },
  {
   "cell_type": "markdown",
   "metadata": {},
   "source": [
    "# examining our features"
   ]
  },
  {
   "cell_type": "markdown",
   "metadata": {},
   "source": [
    "## Expirementing with the continuous data\n"
   ]
  },
  {
   "cell_type": "code",
   "execution_count": 17,
   "metadata": {},
   "outputs": [],
   "source": [
    "#combine the three new dataframes\n",
    "mod_val_sets.reset_index(drop=True,inplace=True)\n",
    "sub_val_sets.reset_index(drop=True,inplace=True)\n",
    "disp_keys.reset_index(drop=True,inplace=True)\n",
    "\n",
    "dummy_feats = pd.concat([mod_val_sets,sub_val_sets,disp_keys],axis=1)"
   ]
  },
  {
   "cell_type": "code",
   "execution_count": 18,
   "metadata": {},
   "outputs": [
    {
     "data": {
      "text/plain": [
       "Index(['2WD', 'V6', '4C', 'PICKUP', '6C', 'FWD', '4WD', 'AWD', 'SFI', 'EFI',\n",
       "       'DOHC', 'I4', 'MPI', 'SEDAN', '4D', 'EXT', 'CAB', '2D', 'WAGON', 'REG',\n",
       "       'FFV', 'PASSENGER', 'SUV', 'SPORT', 'UTILITY', 'QUAD', 'COUPE',\n",
       "       'MINIVAN', 'CUV', '3.5', '4.2', '3.3', '4.7', '3.0', '3.9', '2.2',\n",
       "       '2.7', '4.6', '3.8', '5.3', '4.0', '3.7', '5.7', '5.4', '3.4', '4.8',\n",
       "       '2.3', '4.3', '2.4', '1.8', '2.5', '5.6', '2.8', '2.0', '5.9', '6.0',\n",
       "       '3.6', '2.9', '8.1', '5.2', 'IsBadBuy'],\n",
       "      dtype='object')"
      ]
     },
     "execution_count": 18,
     "metadata": {},
     "output_type": "execute_result"
    }
   ],
   "source": [
    "dummy_feats['IsBadBuy'] = df.IsBadBuy\n",
    "dummy_feats.columns"
   ]
  },
  {
   "cell_type": "code",
   "execution_count": 19,
   "metadata": {},
   "outputs": [],
   "source": [
    "cols = []\n",
    "odds_of_zero = []\n",
    "present = []\n",
    "pct_lemons = []\n",
    "variance = []\n",
    "\n",
    "\n",
    "#loop to compare the odds of getting rating = 0 vs rating 1\n",
    "for col in dummy_feats.loc[:, ~(dummy_feats.columns).isin(['IsBadBuy'])]:\n",
    "    variance.append(dummy_feats[col].mean())\n",
    "    odds = dummy_feats.loc[dummy_feats[col]==1] #locate entries where attribute value is 1\n",
    "    cols.append(col)#append the attribute name\n",
    "    present.append(len(odds.IsBadBuy))#the occurance of attribute\n",
    "    pct_lemons.append(odds.IsBadBuy.mean())#percent good recipes when attribute present\n",
    "    #in the case of zero occurance of good ratings\n",
    "    if odds.IsBadBuy.sum() == 0:\n",
    "        odds_of_zero.append(100)\n",
    "    # if sum() not 0, calculate odds.\n",
    "    if odds.IsBadBuy.sum() != 0:\n",
    "        that = len(odds.IsBadBuy)-odds.IsBadBuy.sum()\n",
    "        this = odds.IsBadBuy.sum()\n",
    "        odds_of_zero.append(that/this)"
   ]
  },
  {
   "cell_type": "code",
   "execution_count": 20,
   "metadata": {},
   "outputs": [],
   "source": [
    "pdf = pd.DataFrame()\n",
    "pdf['col'] = cols\n",
    "pdf['odds_of_zero'] = odds_of_zero\n",
    "pdf['present'] = present\n",
    "pdf['variance'] = variance\n",
    "pdf['pct_lemons'] = pct_lemons\n"
   ]
  },
  {
   "cell_type": "code",
   "execution_count": 21,
   "metadata": {},
   "outputs": [
    {
     "data": {
      "text/html": [
       "<div>\n",
       "<style scoped>\n",
       "    .dataframe tbody tr th:only-of-type {\n",
       "        vertical-align: middle;\n",
       "    }\n",
       "\n",
       "    .dataframe tbody tr th {\n",
       "        vertical-align: top;\n",
       "    }\n",
       "\n",
       "    .dataframe thead th {\n",
       "        text-align: right;\n",
       "    }\n",
       "</style>\n",
       "<table border=\"1\" class=\"dataframe\">\n",
       "  <thead>\n",
       "    <tr style=\"text-align: right;\">\n",
       "      <th></th>\n",
       "      <th>col</th>\n",
       "      <th>odds_of_zero</th>\n",
       "      <th>present</th>\n",
       "      <th>variance</th>\n",
       "      <th>pct_lemons</th>\n",
       "    </tr>\n",
       "  </thead>\n",
       "  <tbody>\n",
       "    <tr>\n",
       "      <th>0</th>\n",
       "      <td>2WD</td>\n",
       "      <td>10.21317</td>\n",
       "      <td>10047</td>\n",
       "      <td>0.149342</td>\n",
       "      <td>0.096521</td>\n",
       "    </tr>\n",
       "  </tbody>\n",
       "</table>\n",
       "</div>"
      ],
      "text/plain": [
       "   col  odds_of_zero  present  variance  pct_lemons\n",
       "0  2WD      10.21317    10047  0.149342    0.096521"
      ]
     },
     "execution_count": 21,
     "metadata": {},
     "output_type": "execute_result"
    }
   ],
   "source": [
    "pdf.head(1)"
   ]
  },
  {
   "cell_type": "code",
   "execution_count": 22,
   "metadata": {
    "scrolled": true
   },
   "outputs": [
    {
     "data": {
      "image/png": "[encoded data removed]",
      "text/plain": [
       "<Figure size 432x288 with 1 Axes>"
      ]
     },
     "metadata": {},
     "output_type": "display_data"
    },
    {
     "data": {
      "text/html": [
       "<div>\n",
       "<style scoped>\n",
       "    .dataframe tbody tr th:only-of-type {\n",
       "        vertical-align: middle;\n",
       "    }\n",
       "\n",
       "    .dataframe tbody tr th {\n",
       "        vertical-align: top;\n",
       "    }\n",
       "\n",
       "    .dataframe thead th {\n",
       "        text-align: right;\n",
       "    }\n",
       "</style>\n",
       "<table border=\"1\" class=\"dataframe\">\n",
       "  <thead>\n",
       "    <tr style=\"text-align: right;\">\n",
       "      <th></th>\n",
       "      <th>level_0</th>\n",
       "      <th>level_1</th>\n",
       "      <th>0</th>\n",
       "    </tr>\n",
       "  </thead>\n",
       "  <tbody>\n",
       "    <tr>\n",
       "      <th>979</th>\n",
       "      <td>CAB</td>\n",
       "      <td>PICKUP</td>\n",
       "      <td>0.911305</td>\n",
       "    </tr>\n",
       "    <tr>\n",
       "      <th>199</th>\n",
       "      <td>PICKUP</td>\n",
       "      <td>CAB</td>\n",
       "      <td>0.911305</td>\n",
       "    </tr>\n",
       "    <tr>\n",
       "      <th>1603</th>\n",
       "      <td>COUPE</td>\n",
       "      <td>2D</td>\n",
       "      <td>0.872834</td>\n",
       "    </tr>\n",
       "    <tr>\n",
       "      <th>1063</th>\n",
       "      <td>2D</td>\n",
       "      <td>COUPE</td>\n",
       "      <td>0.872834</td>\n",
       "    </tr>\n",
       "    <tr>\n",
       "      <th>1918</th>\n",
       "      <td>3.3</td>\n",
       "      <td>MINIVAN</td>\n",
       "      <td>0.843722</td>\n",
       "    </tr>\n",
       "  </tbody>\n",
       "</table>\n",
       "</div>"
      ],
      "text/plain": [
       "     level_0  level_1         0\n",
       "979      CAB   PICKUP  0.911305\n",
       "199   PICKUP      CAB  0.911305\n",
       "1603   COUPE       2D  0.872834\n",
       "1063      2D    COUPE  0.872834\n",
       "1918     3.3  MINIVAN  0.843722"
      ]
     },
     "execution_count": 22,
     "metadata": {},
     "output_type": "execute_result"
    }
   ],
   "source": [
    "corrmat = dummy_feats.corr().abs()#create correlation matrix\n",
    "c = corrmat.unstack().reset_index()\n",
    "#take a look at the distribution of the higher correlated pairs.\n",
    "\n",
    "#plot a histogram\n",
    "fig = sns.distplot(c[c[0] != 1][0],kde=False,bins=50)\n",
    "plt.show()\n",
    "c[c != 1].sort_values(by=0,ascending=False).head(5)"
   ]
  },
  {
   "cell_type": "code",
   "execution_count": 23,
   "metadata": {
    "scrolled": true
   },
   "outputs": [
    {
     "data": {
      "text/html": [
       "<div>\n",
       "<style scoped>\n",
       "    .dataframe tbody tr th:only-of-type {\n",
       "        vertical-align: middle;\n",
       "    }\n",
       "\n",
       "    .dataframe tbody tr th {\n",
       "        vertical-align: top;\n",
       "    }\n",
       "\n",
       "    .dataframe thead th {\n",
       "        text-align: right;\n",
       "    }\n",
       "</style>\n",
       "<table border=\"1\" class=\"dataframe\">\n",
       "  <thead>\n",
       "    <tr style=\"text-align: right;\">\n",
       "      <th></th>\n",
       "      <th>level_0</th>\n",
       "      <th>level_1</th>\n",
       "      <th>corr</th>\n",
       "    </tr>\n",
       "  </thead>\n",
       "  <tbody>\n",
       "    <tr>\n",
       "      <th>199</th>\n",
       "      <td>PICKUP</td>\n",
       "      <td>CAB</td>\n",
       "      <td>0.911305</td>\n",
       "    </tr>\n",
       "    <tr>\n",
       "      <th>208</th>\n",
       "      <td>PICKUP</td>\n",
       "      <td>QUAD</td>\n",
       "      <td>0.528252</td>\n",
       "    </tr>\n",
       "    <tr>\n",
       "      <th>274</th>\n",
       "      <td>6C</td>\n",
       "      <td>4.2</td>\n",
       "      <td>0.829285</td>\n",
       "    </tr>\n",
       "  </tbody>\n",
       "</table>\n",
       "</div>"
      ],
      "text/plain": [
       "    level_0 level_1      corr\n",
       "199  PICKUP     CAB  0.911305\n",
       "208  PICKUP    QUAD  0.528252\n",
       "274      6C     4.2  0.829285"
      ]
     },
     "execution_count": 23,
     "metadata": {},
     "output_type": "execute_result"
    }
   ],
   "source": [
    "d = c.loc[(c[0]!=1) & (c[0]>.5)]\n",
    "d = d.rename(columns={0:'corr'})\n",
    "d.head(3)\n"
   ]
  },
  {
   "cell_type": "code",
   "execution_count": 24,
   "metadata": {},
   "outputs": [],
   "source": [
    "corrgroup = d.groupby('level_0')['level_1'].value_counts()\n",
    "pdf['n_corrs>.5'] = corrgroup.groupby('level_0').describe().reset_index()['count']\n",
    "corrgroup = d.groupby('level_0')['level_1'].value_counts()\n",
    "pdf['avg_corr'] = d.groupby('level_0')['corr'].mean().reset_index()['corr']\n",
    "pdf.fillna(0,inplace=True)"
   ]
  },
  {
   "cell_type": "code",
   "execution_count": 25,
   "metadata": {
    "scrolled": true
   },
   "outputs": [
    {
     "data": {
      "text/plain": [
       "\"#A quick visuaization,\\nsns.set_style('darkgrid')\\ng = sns.PairGrid(pdf, diag_sharey=False)\\n\\ng.map_upper(plt.scatter, alpha=.5)\\n\\ng.map_lower(sns.regplot, scatter_kws=dict(alpha=0))\\n\\ng.map_diag(sns.kdeplot, lw=3)\\nplt.show()\\n\""
      ]
     },
     "execution_count": 25,
     "metadata": {},
     "output_type": "execute_result"
    }
   ],
   "source": [
    "'''#A quick visuaization,\n",
    "sns.set_style('darkgrid')\n",
    "g = sns.PairGrid(pdf, diag_sharey=False)\n",
    "\n",
    "g.map_upper(plt.scatter, alpha=.5)\n",
    "\n",
    "g.map_lower(sns.regplot, scatter_kws=dict(alpha=0))\n",
    "\n",
    "g.map_diag(sns.kdeplot, lw=3)\n",
    "plt.show()\n",
    "'''\n"
   ]
  },
  {
   "cell_type": "code",
   "execution_count": 26,
   "metadata": {},
   "outputs": [
    {
     "data": {
      "image/png": "[encoded data removed]",
      "text/plain": [
       "<Figure size 1080x864 with 2 Axes>"
      ]
     },
     "metadata": {},
     "output_type": "display_data"
    }
   ],
   "source": [
    "sns.set(palette='YlGnBu')\n",
    "mask = np.zeros_like(corrmat)\n",
    "mask[np.triu_indices_from(mask)] = True\n",
    "    \n",
    "with sns.axes_style('dark'):    \n",
    "    ax = plt.subplots(figsize=(15,12))\n",
    "\n",
    "    sns.heatmap(corrmat,\n",
    "            vmax=.8, \n",
    "            cmap=\"mako_r\",\n",
    "            annot=False,\n",
    "            linewidth=.02,\n",
    "            square=True,\n",
    "            mask=mask)\n",
    "\n",
    "\n",
    "plt.show()"
   ]
  },
  {
   "cell_type": "code",
   "execution_count": 27,
   "metadata": {},
   "outputs": [],
   "source": [
    "#subtract everything from everything\n",
    "plodf= df[['MMRAcquisitionAuctionAveragePrice', 'MMRAcquisitionAuctionCleanPrice',\n",
    " 'MMRAcquisitionRetailAveragePrice', 'MMRAcquisitonRetailCleanPrice',\n",
    " 'MMRCurrentAuctionAveragePrice', 'MMRCurrentAuctionCleanPrice',\n",
    " 'MMRCurrentRetailAveragePrice', 'MMRCurrentRetailCleanPrice',\n",
    " 'VehicleAge','VehOdo','WarrantyCost','IsBadBuy']].copy()\n",
    "plodf.dropna(inplace=True)\n",
    "plodf['crcp_cacp'] = plodf.MMRCurrentRetailCleanPrice - plodf.MMRCurrentAuctionCleanPrice\n",
    "plodf['arcp_aacp'] = plodf.MMRAcquisitonRetailCleanPrice - plodf.MMRAcquisitionAuctionCleanPrice\n",
    "plodf['crap_caap'] = plodf.MMRCurrentRetailAveragePrice - plodf.MMRCurrentAuctionAveragePrice\n",
    "plodf['arap_aaap'] = plodf.MMRAcquisitionRetailAveragePrice - plodf.MMRAcquisitionAuctionAveragePrice\n",
    "\n",
    "plodf['caap_aaap'] = plodf.MMRCurrentAuctionAveragePrice - plodf.MMRAcquisitionAuctionAveragePrice\n",
    "plodf['cacp_aacp'] = plodf.MMRCurrentAuctionCleanPrice - plodf.MMRAcquisitionAuctionCleanPrice\n",
    "plodf['crap_arap'] = plodf.MMRCurrentRetailAveragePrice - plodf.MMRAcquisitionRetailAveragePrice\n",
    "plodf['crcp_arcp'] = plodf.MMRCurrentRetailCleanPrice - plodf.MMRAcquisitonRetailCleanPrice\n",
    "\n",
    "plodf['crcp_crap'] = plodf.MMRCurrentRetailCleanPrice - plodf.MMRCurrentRetailAveragePrice\n",
    "plodf['arcp_arap'] = plodf.MMRAcquisitonRetailCleanPrice - plodf.MMRAcquisitionRetailAveragePrice\n",
    "plodf['cacp_caap'] = plodf.MMRCurrentAuctionCleanPrice - plodf.MMRCurrentAuctionAveragePrice\n",
    "plodf['aacp_aaap'] = plodf.MMRAcquisitionAuctionCleanPrice - plodf.MMRAcquisitionAuctionAveragePrice\n",
    "\n",
    "plodf['crcp_caap'] = plodf.MMRCurrentRetailCleanPrice - plodf.MMRCurrentAuctionAveragePrice\n",
    "plodf['arcp_aaap'] = plodf.MMRAcquisitonRetailCleanPrice - plodf.MMRAcquisitionAuctionAveragePrice\n",
    "plodf['crap_cacp'] = plodf.MMRCurrentRetailAveragePrice - plodf.MMRCurrentAuctionCleanPrice\n",
    "plodf['arap_aacp'] = plodf.MMRAcquisitionRetailAveragePrice - plodf.MMRAcquisitionAuctionCleanPrice\n",
    "\n",
    "plodf['crcp_arap'] = plodf.MMRCurrentRetailCleanPrice - plodf.MMRAcquisitionRetailAveragePrice\n",
    "plodf['arcp_crap'] = plodf.MMRAcquisitonRetailCleanPrice - plodf.MMRCurrentRetailAveragePrice\n",
    "plodf['cacp_aaap'] = plodf.MMRCurrentAuctionCleanPrice - plodf.MMRAcquisitionAuctionAveragePrice\n",
    "plodf['aacp_caap'] = plodf.MMRAcquisitionAuctionCleanPrice - plodf.MMRCurrentAuctionAveragePrice\n",
    "\n",
    "plodf['crcp_aacp'] = plodf.MMRCurrentRetailCleanPrice - plodf.MMRAcquisitionAuctionCleanPrice\n",
    "plodf['arcp_cacp'] = plodf.MMRAcquisitonRetailCleanPrice - plodf.MMRCurrentAuctionCleanPrice\n",
    "plodf['crap_aaap'] = plodf.MMRCurrentRetailAveragePrice - plodf.MMRAcquisitionAuctionAveragePrice\n",
    "plodf['arap_caap'] = plodf.MMRAcquisitionRetailAveragePrice - plodf.MMRCurrentAuctionAveragePrice\n",
    "\n",
    "plodf['crcp_crap_cacp_caap'] = plodf['crcp_crap']-plodf['cacp_caap']\n",
    "plodf['arcp_arap_aacp_aaap'] = plodf['arcp_arap']-plodf['aacp_aaap']\n",
    "\n",
    "plodf['crcp_cacp_arcp_aacp'] = plodf['crcp_cacp']-plodf['arcp_aacp']\n",
    "plodf['crap_caap_arap_aaap'] = plodf['crap_caap']-plodf['arap_aaap']\n",
    "\n",
    "plodf['crcp_caap_arcp_aaap'] = plodf['crcp_caap']-plodf['arcp_aaap']\n",
    "plodf['crap_cacp_arap_aacp'] = plodf['crap_cacp']-plodf['arap_aacp']\n",
    "\n",
    "plodf['crcp_arap_arcp_crap'] = plodf['crcp_arap']-plodf['arcp_crap']\n",
    "plodf['cacp_aaap_aacp_caap'] = plodf['cacp_aaap']-plodf['aacp_caap']\n",
    "\n",
    "plodf['crcp_aacp_arcp_cacp'] = plodf['crcp_caap']-plodf['arcp_aaap']\n",
    "plodf['crap_aaap_arap_caap'] = plodf['crap_cacp']-plodf['arap_aacp']"
   ]
  },
  {
   "cell_type": "code",
   "execution_count": 28,
   "metadata": {},
   "outputs": [
    {
     "data": {
      "text/plain": [
       "(67275, 46)"
      ]
     },
     "execution_count": 28,
     "metadata": {},
     "output_type": "execute_result"
    }
   ],
   "source": [
    "plodf.shape"
   ]
  },
  {
   "cell_type": "code",
   "execution_count": 29,
   "metadata": {},
   "outputs": [],
   "source": [
    "plodf['crcp_cacp_war'] = plodf['crcp_cacp']* df.WarrantyCost/df.VehicleAge"
   ]
  },
  {
   "cell_type": "code",
   "execution_count": 30,
   "metadata": {},
   "outputs": [],
   "source": [
    "plodf['crcp_cacp_logwar'] = plodf['crcp_cacp_war']"
   ]
  },
  {
   "cell_type": "code",
   "execution_count": 31,
   "metadata": {},
   "outputs": [],
   "source": [
    "plodf['crcp_cacp_losqwar'] = plodf['crcp_cacp']* df.WarrantyCost/np.sqrt(df.VehicleAge)"
   ]
  },
  {
   "cell_type": "code",
   "execution_count": 32,
   "metadata": {},
   "outputs": [],
   "source": [
    "plodf['crap_aaap_war'] = plodf['crap_aaap']* df.WarrantyCost/df.VehicleAge"
   ]
  },
  {
   "cell_type": "code",
   "execution_count": 33,
   "metadata": {},
   "outputs": [],
   "source": [
    "plodf['log_war_age'] = df.WarrantyCost/df.VehicleAge"
   ]
  },
  {
   "cell_type": "code",
   "execution_count": 34,
   "metadata": {},
   "outputs": [],
   "source": [
    "plodf['odo_age'] = np.log(df.VehOdo/df.VehicleAge)"
   ]
  },
  {
   "cell_type": "code",
   "execution_count": 35,
   "metadata": {},
   "outputs": [],
   "source": [
    "plodf['odo_war'] = np.log((df.WarrantyCost/df.VehOdo))\n",
    "plodf['another'] = np.log(df.WarrantyCost/df.VehOdo**2)\n",
    "plodf['ugh'] = plodf.VehicleAge * (plodf.crcp_caap/plodf.WarrantyCost)"
   ]
  },
  {
   "cell_type": "code",
   "execution_count": 36,
   "metadata": {},
   "outputs": [],
   "source": [
    "price_pvals = pd.DataFrame()\n",
    "prices = []\n",
    "pvals = []\n",
    "for col in plodf: \n",
    "    tstat = stats.ttest_ind(\n",
    "    plodf[plodf.IsBadBuy == 1][col],\n",
    "    plodf[plodf.IsBadBuy == 0][col])\n",
    "    prices.append(col)\n",
    "    pvals.append(tstat.pvalue)\n",
    "price_pvals['price'] = prices\n",
    "price_pvals['pvalues'] = pvals"
   ]
  },
  {
   "cell_type": "code",
   "execution_count": 37,
   "metadata": {
    "scrolled": true
   },
   "outputs": [],
   "source": [
    "price_pvals.sort_values(by='pvalues',inplace=True)\n",
    "cont_df = plodf[['odo_age','log_war_age','crcp_cacp_war']]"
   ]
  },
  {
   "cell_type": "code",
   "execution_count": 38,
   "metadata": {},
   "outputs": [],
   "source": [
    "#combine the three new dataframes\n",
    "mod_val_sets.reset_index(drop=True,inplace=True)\n",
    "sub_val_sets.reset_index(drop=True,inplace=True)\n",
    "disp_keys.reset_index(drop=True,inplace=True)\n",
    "cont_df.reset_index(drop=True,inplace=True)\n",
    "\n",
    "add_feats = pd.concat([mod_val_sets,sub_val_sets,disp_keys,cont_df],axis=1)\n"
   ]
  },
  {
   "cell_type": "code",
   "execution_count": 39,
   "metadata": {},
   "outputs": [
    {
     "data": {
      "text/plain": [
       "((67275, 29), (67275, 63))"
      ]
     },
     "execution_count": 39,
     "metadata": {},
     "output_type": "execute_result"
    }
   ],
   "source": [
    "df.shape,add_feats.shape"
   ]
  },
  {
   "cell_type": "code",
   "execution_count": 40,
   "metadata": {},
   "outputs": [],
   "source": [
    "#combine new features to our existing attributes\n",
    "df.reset_index(drop=True,inplace=True)\n",
    "model_df = pd.concat([df,add_feats],axis=1)"
   ]
  },
  {
   "cell_type": "code",
   "execution_count": 41,
   "metadata": {},
   "outputs": [],
   "source": [
    "model_df.drop(['SubModel'],1,inplace=True)\n",
    "model_df.Model = model_df.Model.str.split().str[0].str.strip()"
   ]
  },
  {
   "cell_type": "code",
   "execution_count": 42,
   "metadata": {},
   "outputs": [],
   "source": [
    "X = model_df.drop(['IsBadBuy'],1)\n",
    "X = pd.get_dummies(X)\n",
    "\n",
    "y = model_df.IsBadBuy\n",
    "\n",
    "X_train, X_test, y_train, y_test = train_test_split(X,y,test_size=.4,random_state=167)"
   ]
  },
  {
   "cell_type": "code",
   "execution_count": 43,
   "metadata": {
    "scrolled": false
   },
   "outputs": [
    {
     "name": "stdout",
     "output_type": "stream",
     "text": [
      "Results of KNN:\n",
      "\n",
      "\n",
      "Classification Report:KNN\n",
      "\n",
      "              precision    recall  f1-score   support\n",
      "\n",
      "           0       0.90      1.00      0.95     24287\n",
      "           1       0.25      0.01      0.02      2623\n",
      "\n",
      "   micro avg       0.90      0.90      0.90     26910\n",
      "   macro avg       0.58      0.50      0.48     26910\n",
      "weighted avg       0.84      0.90      0.86     26910\n",
      "\n",
      "Confusion Matrix:\n"
     ]
    },
    {
     "data": {
      "image/png": "[encoded data removed]",
      "text/plain": [
       "<Figure size 432x288 with 1 Axes>"
      ]
     },
     "metadata": {},
     "output_type": "display_data"
    },
    {
     "name": "stdout",
     "output_type": "stream",
     "text": [
      "ROC_AUC _SCORE:\n",
      "0.503649254002065\n",
      "\n",
      "\n",
      "Results of Random Forest:\n",
      "\n",
      "\n",
      "Classification Report:RFC\n",
      "\n",
      "              precision    recall  f1-score   support\n",
      "\n",
      "           0       0.90      1.00      0.95     24287\n",
      "           1       0.50      0.00      0.01      2623\n",
      "\n",
      "   micro avg       0.90      0.90      0.90     26910\n",
      "   macro avg       0.70      0.50      0.48     26910\n",
      "weighted avg       0.86      0.90      0.86     26910\n",
      "\n",
      "Confusion Matrix:\n"
     ]
    },
    {
     "data": {
      "image/png": "[encoded data removed]",
      "text/plain": [
       "<Figure size 432x288 with 1 Axes>"
      ]
     },
     "metadata": {},
     "output_type": "display_data"
    },
    {
     "name": "stdout",
     "output_type": "stream",
     "text": [
      "ROC_AUC _SCORE:\n",
      "0.5020404113655421\n"
     ]
    },
    {
     "name": "stderr",
     "output_type": "stream",
     "text": [
      "/root/.pyenv/versions/3.6.0/lib/python3.6/site-packages/sklearn/linear_model/logistic.py:432: FutureWarning:\n",
      "\n",
      "Default solver will be changed to 'lbfgs' in 0.22. Specify a solver to silence this warning.\n",
      "\n"
     ]
    },
    {
     "name": "stdout",
     "output_type": "stream",
     "text": [
      "\n",
      "\n",
      "Results of Logistic Regression (lasso):\n",
      "\n",
      "\n",
      "Classification Report:LR1\n",
      "\n",
      "              precision    recall  f1-score   support\n",
      "\n",
      "           0       0.90      1.00      0.95     24287\n",
      "           1       0.26      0.01      0.01      2623\n",
      "\n",
      "   micro avg       0.90      0.90      0.90     26910\n",
      "   macro avg       0.58      0.50      0.48     26910\n",
      "weighted avg       0.84      0.90      0.86     26910\n",
      "\n",
      "Confusion Matrix:\n"
     ]
    },
    {
     "data": {
      "image/png": "[encoded data removed]",
      "text/plain": [
       "<Figure size 432x288 with 1 Axes>"
      ]
     },
     "metadata": {},
     "output_type": "display_data"
    },
    {
     "name": "stdout",
     "output_type": "stream",
     "text": [
      "ROC_AUC _SCORE:\n",
      "0.5023812412505613\n"
     ]
    },
    {
     "name": "stderr",
     "output_type": "stream",
     "text": [
      "/root/.pyenv/versions/3.6.0/lib/python3.6/site-packages/sklearn/linear_model/logistic.py:432: FutureWarning:\n",
      "\n",
      "Default solver will be changed to 'lbfgs' in 0.22. Specify a solver to silence this warning.\n",
      "\n"
     ]
    },
    {
     "name": "stdout",
     "output_type": "stream",
     "text": [
      "\n",
      "\n",
      "Results of Logistic Regression (Ridge):\n",
      "\n",
      "\n",
      "Classification Report:LR2\n",
      "\n",
      "              precision    recall  f1-score   support\n",
      "\n",
      "           0       0.90      1.00      0.95     24287\n",
      "           1       0.60      0.00      0.00      2623\n",
      "\n",
      "   micro avg       0.90      0.90      0.90     26910\n",
      "   macro avg       0.75      0.50      0.48     26910\n",
      "weighted avg       0.87      0.90      0.86     26910\n",
      "\n",
      "Confusion Matrix:\n"
     ]
    },
    {
     "data": {
      "image/png": "[encoded data removed]",
      "text/plain": [
       "<Figure size 432x288 with 1 Axes>"
      ]
     },
     "metadata": {},
     "output_type": "display_data"
    },
    {
     "name": "stdout",
     "output_type": "stream",
     "text": [
      "ROC_AUC _SCORE:\n",
      "0.500530689986772\n",
      "\n",
      "\n",
      "Results of Gradient Boosting:\n",
      "\n",
      "\n",
      "Classification Report:GBC\n",
      "\n",
      "              precision    recall  f1-score   support\n",
      "\n",
      "           0       0.90      1.00      0.95     24287\n",
      "           1       0.41      0.01      0.01      2623\n",
      "\n",
      "   micro avg       0.90      0.90      0.90     26910\n",
      "   macro avg       0.66      0.50      0.48     26910\n",
      "weighted avg       0.85      0.90      0.86     26910\n",
      "\n",
      "Confusion Matrix:\n"
     ]
    },
    {
     "data": {
      "image/png": "[encoded data removed]",
      "text/plain": [
       "<Figure size 432x288 with 1 Axes>"
      ]
     },
     "metadata": {},
     "output_type": "display_data"
    },
    {
     "name": "stdout",
     "output_type": "stream",
     "text": [
      "ROC_AUC _SCORE:\n",
      "0.503215401300759\n"
     ]
    }
   ],
   "source": [
    "model_me(X_train, X_test, y_train, y_test)"
   ]
  },
  {
   "cell_type": "code",
   "execution_count": 44,
   "metadata": {},
   "outputs": [
    {
     "data": {
      "text/plain": [
       "RandomForestClassifier(bootstrap=True, class_weight='balanced_subsample',\n",
       "            criterion='entropy', max_depth=12, max_features='auto',\n",
       "            max_leaf_nodes=None, min_impurity_decrease=0.0,\n",
       "            min_impurity_split=None, min_samples_leaf=1,\n",
       "            min_samples_split=2, min_weight_fraction_leaf=0.0,\n",
       "            n_estimators=400, n_jobs=None, oob_score=False,\n",
       "            random_state=None, verbose=0, warm_start=False)"
      ]
     },
     "execution_count": 44,
     "metadata": {},
     "output_type": "execute_result"
    }
   ],
   "source": [
    "rfc = ensemble.RandomForestClassifier(n_estimators=400,class_weight='balanced_subsample',max_depth = 12,criterion='entropy')\n",
    "rfc.fit(X_train,y_train)\n"
   ]
  },
  {
   "cell_type": "code",
   "execution_count": 45,
   "metadata": {},
   "outputs": [
    {
     "name": "stdout",
     "output_type": "stream",
     "text": [
      "0.7800817539947975\n",
      "[[18545  5742]\n",
      " [ 1302  1321]]\n",
      "              precision    recall  f1-score   support\n",
      "\n",
      "           0       0.93      0.76      0.84     24287\n",
      "           1       0.19      0.50      0.27      2623\n",
      "\n",
      "   micro avg       0.74      0.74      0.74     26910\n",
      "   macro avg       0.56      0.63      0.56     26910\n",
      "weighted avg       0.86      0.74      0.79     26910\n",
      "\n",
      "0.6335995147367308\n"
     ]
    }
   ],
   "source": [
    "print(rfc.score(X_train,y_train))\n",
    "y_pred = rfc.predict(X_test)\n",
    "print(confusion_matrix(y_test,y_pred))\n",
    "print(classification_report(y_test,y_pred))\n",
    "print(roc_auc_score(y_test,y_pred))"
   ]
  },
  {
   "cell_type": "code",
   "execution_count": 46,
   "metadata": {},
   "outputs": [],
   "source": [
    "model_dfd = pd.get_dummies(model_df)"
   ]
  },
  {
   "cell_type": "code",
   "execution_count": 47,
   "metadata": {
    "scrolled": true
   },
   "outputs": [
    {
     "data": {
      "text/plain": [
       "IsBadBuy                               int64\n",
       "Auction                               object\n",
       "VehicleAge                             int64\n",
       "Make                                  object\n",
       "Model                                 object\n",
       "Trim                                  object\n",
       "Color                                 object\n",
       "Transmission                          object\n",
       "WheelTypeID                          float64\n",
       "VehOdo                                 int64\n",
       "Nationality                           object\n",
       "Size                                  object\n",
       "TopThreeAmericanName                  object\n",
       "MMRAcquisitionAuctionAveragePrice    float64\n",
       "MMRAcquisitionAuctionCleanPrice      float64\n",
       "MMRAcquisitionRetailAveragePrice     float64\n",
       "MMRAcquisitonRetailCleanPrice        float64\n",
       "MMRCurrentAuctionAveragePrice        float64\n",
       "MMRCurrentAuctionCleanPrice          float64\n",
       "MMRCurrentRetailAveragePrice         float64\n",
       "MMRCurrentRetailCleanPrice           float64\n",
       "VNST                                  object\n",
       "VehBCost                             float64\n",
       "IsOnlineSale                           int64\n",
       "WarrantyCost                           int64\n",
       "pyear                                  int64\n",
       "pmonth                                 int64\n",
       "pday                                   int64\n",
       "2WD                                    int64\n",
       "V6                                     int64\n",
       "                                      ...   \n",
       "3.0                                    int64\n",
       "3.9                                    int64\n",
       "2.2                                    int64\n",
       "2.7                                    int64\n",
       "4.6                                    int64\n",
       "3.8                                    int64\n",
       "5.3                                    int64\n",
       "4.0                                    int64\n",
       "3.7                                    int64\n",
       "5.7                                    int64\n",
       "5.4                                    int64\n",
       "3.4                                    int64\n",
       "4.8                                    int64\n",
       "2.3                                    int64\n",
       "4.3                                    int64\n",
       "2.4                                    int64\n",
       "1.8                                    int64\n",
       "2.5                                    int64\n",
       "5.6                                    int64\n",
       "2.8                                    int64\n",
       "2.0                                    int64\n",
       "5.9                                    int64\n",
       "6.0                                    int64\n",
       "3.6                                    int64\n",
       "2.9                                    int64\n",
       "8.1                                    int64\n",
       "5.2                                    int64\n",
       "odo_age                              float64\n",
       "log_war_age                          float64\n",
       "crcp_cacp_war                        float64\n",
       "Length: 91, dtype: object"
      ]
     },
     "execution_count": 47,
     "metadata": {},
     "output_type": "execute_result"
    }
   ],
   "source": [
    "model_df.dtypes"
   ]
  },
  {
   "cell_type": "code",
   "execution_count": 48,
   "metadata": {},
   "outputs": [],
   "source": [
    "cat_list = model_df.select_dtypes(['object','int64']).index"
   ]
  },
  {
   "cell_type": "code",
   "execution_count": 55,
   "metadata": {},
   "outputs": [],
   "source": [
    "scaler = preprocessing.StandardScaler()"
   ]
  },
  {
   "cell_type": "code",
   "execution_count": 71,
   "metadata": {},
   "outputs": [],
   "source": [
    "X = model_df.drop(['IsBadBuy'],1)\n",
    "X = pd.get_dummies(X)\n",
    "#X = scaler.fit_transform(X)\n",
    "y = model_df.IsBadBuy\n",
    "X_train, X_test, y_train, y_test = train_test_split(X,y,test_size=.4,random_state=167)\n",
    "sm = SMOTE(random_state=163,sampling_strategy=.3)\n",
    "X_res, y_res = sm.fit_resample(X_train, y_train)"
   ]
  },
  {
   "cell_type": "code",
   "execution_count": 72,
   "metadata": {},
   "outputs": [
    {
     "data": {
      "text/plain": [
       "0.23076599326599326"
      ]
     },
     "execution_count": 72,
     "metadata": {},
     "output_type": "execute_result"
    }
   ],
   "source": [
    "X_res.shape\n",
    "y_res.mean()"
   ]
  },
  {
   "cell_type": "code",
   "execution_count": 73,
   "metadata": {},
   "outputs": [],
   "source": [
    "X_train = X_res\n",
    "y_train = y_res\n"
   ]
  },
  {
   "cell_type": "code",
   "execution_count": 74,
   "metadata": {
    "scrolled": true
   },
   "outputs": [
    {
     "data": {
      "text/plain": [
       "RandomForestClassifier(bootstrap=True, class_weight='balanced_subsample',\n",
       "            criterion='entropy', max_depth=12, max_features='auto',\n",
       "            max_leaf_nodes=None, min_impurity_decrease=0.0,\n",
       "            min_impurity_split=None, min_samples_leaf=1,\n",
       "            min_samples_split=2, min_weight_fraction_leaf=0.0,\n",
       "            n_estimators=500, n_jobs=None, oob_score=False,\n",
       "            random_state=None, verbose=0, warm_start=False)"
      ]
     },
     "execution_count": 74,
     "metadata": {},
     "output_type": "execute_result"
    }
   ],
   "source": [
    "rfc = ensemble.RandomForestClassifier(n_estimators=500,class_weight='balanced_subsample',max_depth = 12,criterion='entropy')\n",
    "rfc.fit(X_train,y_train)"
   ]
  },
  {
   "cell_type": "code",
   "execution_count": 70,
   "metadata": {
    "scrolled": true
   },
   "outputs": [
    {
     "name": "stdout",
     "output_type": "stream",
     "text": [
      "0.9393681967401947\n",
      "[[24119   168]\n",
      " [ 2558    65]]\n",
      "              precision    recall  f1-score   support\n",
      "\n",
      "           0       0.90      0.99      0.95     24287\n",
      "           1       0.28      0.02      0.05      2623\n",
      "\n",
      "   micro avg       0.90      0.90      0.90     26910\n",
      "   macro avg       0.59      0.51      0.50     26910\n",
      "weighted avg       0.84      0.90      0.86     26910\n",
      "\n",
      "0.5089317522552185\n"
     ]
    }
   ],
   "source": [
    "print(rfc.score(X_train,y_train))\n",
    "y_pred = rfc.predict(X_test)\n",
    "print(confusion_matrix(y_test,y_pred))\n",
    "print(classification_report(y_test,y_pred))\n",
    "print(roc_auc_score(y_test,y_pred))"
   ]
  },
  {
   "cell_type": "code",
   "execution_count": 79,
   "metadata": {
    "scrolled": true
   },
   "outputs": [
    {
     "data": {
      "text/plain": [
       "2558"
      ]
     },
     "execution_count": 79,
     "metadata": {},
     "output_type": "execute_result"
    }
   ],
   "source": [
    "this = confusion_matrix(y_test,y_pred)\n",
    "this[1][0]"
   ]
  },
  {
   "cell_type": "code",
   "execution_count": null,
   "metadata": {},
   "outputs": [],
   "source": [
    "andomForestClassifier(bootstrap=True, class_weight='balanced_subsample',\n",
    "            criterion='entropy', max_depth=12, max_features='auto',\n",
    "            max_leaf_nodes=None, min_impurity_decrease=0.0,\n",
    "            min_impurity_split=None, min_samples_leaf=1,\n",
    "            min_samples_split=2, min_weight_fraction_leaf=0.0,\n",
    "            n_estimators=500, n_jobs=None, oob_score=False,\n",
    "            random_state=None, verbose=0, warm_start=False)"
   ]
  },
  {
   "cell_type": "markdown",
   "metadata": {},
   "source": [
    "Correct Oversampling"
   ]
  },
  {
   "cell_type": "code",
   "execution_count": 84,
   "metadata": {},
   "outputs": [],
   "source": []
  },
  {
   "cell_type": "code",
   "execution_count": 98,
   "metadata": {},
   "outputs": [],
   "source": [
    "X = test_mod.drop(['IsBadBuy'],1)\n",
    "X = pd.get_dummies(X)\n",
    "#X = scaler.fit_transform(X)\n",
    "y = test_mod.IsBadBuy\n",
    "X_train, X_test, y_train, y_test = train_test_split(X,y,test_size=.4,random_state=167)\n",
    "sm = SMOTE(random_state=163,sampling_strategy=.3)\n",
    "X_res, y_res = sm.fit_resample(X_train, y_train)"
   ]
  },
  {
   "cell_type": "code",
   "execution_count": 99,
   "metadata": {},
   "outputs": [],
   "source": [
    "X_train = X_res\n",
    "y_train = y_res"
   ]
  },
  {
   "cell_type": "code",
   "execution_count": 91,
   "metadata": {},
   "outputs": [],
   "source": [
    "#run a loop test a number of different parameters on the same data\n",
    "n_ests = []\n",
    "max_d = []\n",
    "min_samples_split = []\n",
    "min_sam_leaf = []\n",
    "TN = []\n",
    "FN = []\n",
    "FP = []\n",
    "TP = []\n",
    "\n",
    "for i in range(3,10,1):\n",
    "    for j in range(5,13,1):\n",
    "        for k in range(2,7):\n",
    "            for l in range(1,6):\n",
    "                params = {'n_estimators': i*100,\n",
    "                      'max_depth': j,\n",
    "                      'criterion': 'gini',\n",
    "                      'min_samples_leaf':l,\n",
    "                      'class_weight':'balanced',\n",
    "                      'min_samples_split':k  }\n",
    "                # Initialize and fit the model.\n",
    "                clf = ensemble.RandomForestClassifier(**params)\n",
    "                clf.fit(X_train, y_train)\n",
    "                y_pred = clf.predict(X_test)\n",
    "                # Accuracy tables.\n",
    "                conf = confusion_matrix(y_test,y_pred)\n",
    "                tns = conf[0][0]\n",
    "                fps = conf[0][1]\n",
    "                tps = conf[1][1]\n",
    "                fns = conf[1][0]\n",
    "                #append info\n",
    "                n_ests.append(i*100)\n",
    "                max_d.append(j)\n",
    "                min_samples_split.append(k)\n",
    "                min_sam_leaf.append(l)\n",
    "                TN.append(tns)\n",
    "                FN.append(fns)\n",
    "                FP.append(fps)\n",
    "                TP.append(tps)"
   ]
  },
  {
   "cell_type": "code",
   "execution_count": 93,
   "metadata": {},
   "outputs": [],
   "source": [
    "results = pd.DataFrame()\n",
    "results['n_estimates'] = n_ests\n",
    "results['max_d'] = max_d\n",
    "results['min_samples_split'] = min_samples_split\n",
    "results['mins_samples_leaf'] = min_sam_leaf\n",
    "results['TN'] = TN\n",
    "results['FN'] = FN\n",
    "results['FP'] = FP \n",
    "results['TP'] = TP"
   ]
  },
  {
   "cell_type": "code",
   "execution_count": 97,
   "metadata": {},
   "outputs": [
    {
     "data": {
      "text/html": [
       "<div>\n",
       "<style scoped>\n",
       "    .dataframe tbody tr th:only-of-type {\n",
       "        vertical-align: middle;\n",
       "    }\n",
       "\n",
       "    .dataframe tbody tr th {\n",
       "        vertical-align: top;\n",
       "    }\n",
       "\n",
       "    .dataframe thead th {\n",
       "        text-align: right;\n",
       "    }\n",
       "</style>\n",
       "<table border=\"1\" class=\"dataframe\">\n",
       "  <thead>\n",
       "    <tr style=\"text-align: right;\">\n",
       "      <th></th>\n",
       "      <th>n_estimates</th>\n",
       "      <th>max_d</th>\n",
       "      <th>min_samples_split</th>\n",
       "      <th>mins_samples_leaf</th>\n",
       "      <th>TN</th>\n",
       "      <th>FN</th>\n",
       "      <th>FP</th>\n",
       "      <th>TP</th>\n",
       "    </tr>\n",
       "  </thead>\n",
       "  <tbody>\n",
       "    <tr>\n",
       "      <th>9</th>\n",
       "      <td>300</td>\n",
       "      <td>5</td>\n",
       "      <td>5</td>\n",
       "      <td>1</td>\n",
       "      <td>1658</td>\n",
       "      <td>124</td>\n",
       "      <td>178</td>\n",
       "      <td>40</td>\n",
       "    </tr>\n",
       "    <tr>\n",
       "      <th>203</th>\n",
       "      <td>500</td>\n",
       "      <td>5</td>\n",
       "      <td>5</td>\n",
       "      <td>3</td>\n",
       "      <td>1653</td>\n",
       "      <td>124</td>\n",
       "      <td>183</td>\n",
       "      <td>40</td>\n",
       "    </tr>\n",
       "    <tr>\n",
       "      <th>192</th>\n",
       "      <td>500</td>\n",
       "      <td>5</td>\n",
       "      <td>2</td>\n",
       "      <td>1</td>\n",
       "      <td>1651</td>\n",
       "      <td>125</td>\n",
       "      <td>185</td>\n",
       "      <td>39</td>\n",
       "    </tr>\n",
       "    <tr>\n",
       "      <th>98</th>\n",
       "      <td>400</td>\n",
       "      <td>5</td>\n",
       "      <td>2</td>\n",
       "      <td>3</td>\n",
       "      <td>1644</td>\n",
       "      <td>125</td>\n",
       "      <td>192</td>\n",
       "      <td>39</td>\n",
       "    </tr>\n",
       "    <tr>\n",
       "      <th>103</th>\n",
       "      <td>400</td>\n",
       "      <td>5</td>\n",
       "      <td>4</td>\n",
       "      <td>2</td>\n",
       "      <td>1640</td>\n",
       "      <td>126</td>\n",
       "      <td>196</td>\n",
       "      <td>38</td>\n",
       "    </tr>\n",
       "    <tr>\n",
       "      <th>8</th>\n",
       "      <td>300</td>\n",
       "      <td>5</td>\n",
       "      <td>4</td>\n",
       "      <td>3</td>\n",
       "      <td>1642</td>\n",
       "      <td>126</td>\n",
       "      <td>194</td>\n",
       "      <td>38</td>\n",
       "    </tr>\n",
       "    <tr>\n",
       "      <th>196</th>\n",
       "      <td>500</td>\n",
       "      <td>5</td>\n",
       "      <td>3</td>\n",
       "      <td>2</td>\n",
       "      <td>1652</td>\n",
       "      <td>126</td>\n",
       "      <td>184</td>\n",
       "      <td>38</td>\n",
       "    </tr>\n",
       "    <tr>\n",
       "      <th>198</th>\n",
       "      <td>500</td>\n",
       "      <td>5</td>\n",
       "      <td>4</td>\n",
       "      <td>1</td>\n",
       "      <td>1649</td>\n",
       "      <td>126</td>\n",
       "      <td>187</td>\n",
       "      <td>38</td>\n",
       "    </tr>\n",
       "    <tr>\n",
       "      <th>298</th>\n",
       "      <td>600</td>\n",
       "      <td>5</td>\n",
       "      <td>5</td>\n",
       "      <td>2</td>\n",
       "      <td>1663</td>\n",
       "      <td>126</td>\n",
       "      <td>173</td>\n",
       "      <td>38</td>\n",
       "    </tr>\n",
       "    <tr>\n",
       "      <th>394</th>\n",
       "      <td>700</td>\n",
       "      <td>5</td>\n",
       "      <td>5</td>\n",
       "      <td>2</td>\n",
       "      <td>1661</td>\n",
       "      <td>127</td>\n",
       "      <td>175</td>\n",
       "      <td>37</td>\n",
       "    </tr>\n",
       "    <tr>\n",
       "      <th>200</th>\n",
       "      <td>500</td>\n",
       "      <td>5</td>\n",
       "      <td>4</td>\n",
       "      <td>3</td>\n",
       "      <td>1646</td>\n",
       "      <td>127</td>\n",
       "      <td>190</td>\n",
       "      <td>37</td>\n",
       "    </tr>\n",
       "    <tr>\n",
       "      <th>296</th>\n",
       "      <td>600</td>\n",
       "      <td>5</td>\n",
       "      <td>4</td>\n",
       "      <td>3</td>\n",
       "      <td>1656</td>\n",
       "      <td>127</td>\n",
       "      <td>180</td>\n",
       "      <td>37</td>\n",
       "    </tr>\n",
       "    <tr>\n",
       "      <th>194</th>\n",
       "      <td>500</td>\n",
       "      <td>5</td>\n",
       "      <td>2</td>\n",
       "      <td>3</td>\n",
       "      <td>1653</td>\n",
       "      <td>127</td>\n",
       "      <td>183</td>\n",
       "      <td>37</td>\n",
       "    </tr>\n",
       "    <tr>\n",
       "      <th>291</th>\n",
       "      <td>600</td>\n",
       "      <td>5</td>\n",
       "      <td>3</td>\n",
       "      <td>1</td>\n",
       "      <td>1662</td>\n",
       "      <td>128</td>\n",
       "      <td>174</td>\n",
       "      <td>36</td>\n",
       "    </tr>\n",
       "    <tr>\n",
       "      <th>292</th>\n",
       "      <td>600</td>\n",
       "      <td>5</td>\n",
       "      <td>3</td>\n",
       "      <td>2</td>\n",
       "      <td>1656</td>\n",
       "      <td>128</td>\n",
       "      <td>180</td>\n",
       "      <td>36</td>\n",
       "    </tr>\n",
       "    <tr>\n",
       "      <th>294</th>\n",
       "      <td>600</td>\n",
       "      <td>5</td>\n",
       "      <td>4</td>\n",
       "      <td>1</td>\n",
       "      <td>1653</td>\n",
       "      <td>128</td>\n",
       "      <td>183</td>\n",
       "      <td>36</td>\n",
       "    </tr>\n",
       "    <tr>\n",
       "      <th>388</th>\n",
       "      <td>700</td>\n",
       "      <td>5</td>\n",
       "      <td>3</td>\n",
       "      <td>2</td>\n",
       "      <td>1659</td>\n",
       "      <td>128</td>\n",
       "      <td>177</td>\n",
       "      <td>36</td>\n",
       "    </tr>\n",
       "    <tr>\n",
       "      <th>193</th>\n",
       "      <td>500</td>\n",
       "      <td>5</td>\n",
       "      <td>2</td>\n",
       "      <td>2</td>\n",
       "      <td>1654</td>\n",
       "      <td>128</td>\n",
       "      <td>182</td>\n",
       "      <td>36</td>\n",
       "    </tr>\n",
       "    <tr>\n",
       "      <th>195</th>\n",
       "      <td>500</td>\n",
       "      <td>5</td>\n",
       "      <td>3</td>\n",
       "      <td>1</td>\n",
       "      <td>1663</td>\n",
       "      <td>128</td>\n",
       "      <td>173</td>\n",
       "      <td>36</td>\n",
       "    </tr>\n",
       "    <tr>\n",
       "      <th>384</th>\n",
       "      <td>700</td>\n",
       "      <td>5</td>\n",
       "      <td>2</td>\n",
       "      <td>1</td>\n",
       "      <td>1660</td>\n",
       "      <td>129</td>\n",
       "      <td>176</td>\n",
       "      <td>35</td>\n",
       "    </tr>\n",
       "    <tr>\n",
       "      <th>107</th>\n",
       "      <td>400</td>\n",
       "      <td>5</td>\n",
       "      <td>5</td>\n",
       "      <td>3</td>\n",
       "      <td>1652</td>\n",
       "      <td>129</td>\n",
       "      <td>184</td>\n",
       "      <td>35</td>\n",
       "    </tr>\n",
       "    <tr>\n",
       "      <th>297</th>\n",
       "      <td>600</td>\n",
       "      <td>5</td>\n",
       "      <td>5</td>\n",
       "      <td>1</td>\n",
       "      <td>1665</td>\n",
       "      <td>129</td>\n",
       "      <td>171</td>\n",
       "      <td>35</td>\n",
       "    </tr>\n",
       "    <tr>\n",
       "      <th>101</th>\n",
       "      <td>400</td>\n",
       "      <td>5</td>\n",
       "      <td>3</td>\n",
       "      <td>3</td>\n",
       "      <td>1660</td>\n",
       "      <td>129</td>\n",
       "      <td>176</td>\n",
       "      <td>35</td>\n",
       "    </tr>\n",
       "    <tr>\n",
       "      <th>201</th>\n",
       "      <td>500</td>\n",
       "      <td>5</td>\n",
       "      <td>5</td>\n",
       "      <td>1</td>\n",
       "      <td>1667</td>\n",
       "      <td>129</td>\n",
       "      <td>169</td>\n",
       "      <td>35</td>\n",
       "    </tr>\n",
       "    <tr>\n",
       "      <th>5</th>\n",
       "      <td>300</td>\n",
       "      <td>5</td>\n",
       "      <td>3</td>\n",
       "      <td>3</td>\n",
       "      <td>1645</td>\n",
       "      <td>129</td>\n",
       "      <td>191</td>\n",
       "      <td>35</td>\n",
       "    </tr>\n",
       "    <tr>\n",
       "      <th>3</th>\n",
       "      <td>300</td>\n",
       "      <td>5</td>\n",
       "      <td>3</td>\n",
       "      <td>1</td>\n",
       "      <td>1656</td>\n",
       "      <td>129</td>\n",
       "      <td>180</td>\n",
       "      <td>35</td>\n",
       "    </tr>\n",
       "    <tr>\n",
       "      <th>2</th>\n",
       "      <td>300</td>\n",
       "      <td>5</td>\n",
       "      <td>2</td>\n",
       "      <td>3</td>\n",
       "      <td>1665</td>\n",
       "      <td>129</td>\n",
       "      <td>171</td>\n",
       "      <td>35</td>\n",
       "    </tr>\n",
       "    <tr>\n",
       "      <th>197</th>\n",
       "      <td>500</td>\n",
       "      <td>5</td>\n",
       "      <td>3</td>\n",
       "      <td>3</td>\n",
       "      <td>1656</td>\n",
       "      <td>129</td>\n",
       "      <td>180</td>\n",
       "      <td>35</td>\n",
       "    </tr>\n",
       "    <tr>\n",
       "      <th>389</th>\n",
       "      <td>700</td>\n",
       "      <td>5</td>\n",
       "      <td>3</td>\n",
       "      <td>3</td>\n",
       "      <td>1670</td>\n",
       "      <td>130</td>\n",
       "      <td>166</td>\n",
       "      <td>34</td>\n",
       "    </tr>\n",
       "    <tr>\n",
       "      <th>1</th>\n",
       "      <td>300</td>\n",
       "      <td>5</td>\n",
       "      <td>2</td>\n",
       "      <td>2</td>\n",
       "      <td>1658</td>\n",
       "      <td>130</td>\n",
       "      <td>178</td>\n",
       "      <td>34</td>\n",
       "    </tr>\n",
       "    <tr>\n",
       "      <th>...</th>\n",
       "      <td>...</td>\n",
       "      <td>...</td>\n",
       "      <td>...</td>\n",
       "      <td>...</td>\n",
       "      <td>...</td>\n",
       "      <td>...</td>\n",
       "      <td>...</td>\n",
       "      <td>...</td>\n",
       "    </tr>\n",
       "    <tr>\n",
       "      <th>175</th>\n",
       "      <td>400</td>\n",
       "      <td>11</td>\n",
       "      <td>4</td>\n",
       "      <td>2</td>\n",
       "      <td>1822</td>\n",
       "      <td>161</td>\n",
       "      <td>14</td>\n",
       "      <td>3</td>\n",
       "    </tr>\n",
       "    <tr>\n",
       "      <th>177</th>\n",
       "      <td>400</td>\n",
       "      <td>11</td>\n",
       "      <td>5</td>\n",
       "      <td>1</td>\n",
       "      <td>1823</td>\n",
       "      <td>161</td>\n",
       "      <td>13</td>\n",
       "      <td>3</td>\n",
       "    </tr>\n",
       "    <tr>\n",
       "      <th>383</th>\n",
       "      <td>600</td>\n",
       "      <td>12</td>\n",
       "      <td>5</td>\n",
       "      <td>3</td>\n",
       "      <td>1826</td>\n",
       "      <td>161</td>\n",
       "      <td>10</td>\n",
       "      <td>3</td>\n",
       "    </tr>\n",
       "    <tr>\n",
       "      <th>382</th>\n",
       "      <td>600</td>\n",
       "      <td>12</td>\n",
       "      <td>5</td>\n",
       "      <td>2</td>\n",
       "      <td>1828</td>\n",
       "      <td>161</td>\n",
       "      <td>8</td>\n",
       "      <td>3</td>\n",
       "    </tr>\n",
       "    <tr>\n",
       "      <th>381</th>\n",
       "      <td>600</td>\n",
       "      <td>12</td>\n",
       "      <td>5</td>\n",
       "      <td>1</td>\n",
       "      <td>1827</td>\n",
       "      <td>161</td>\n",
       "      <td>9</td>\n",
       "      <td>3</td>\n",
       "    </tr>\n",
       "    <tr>\n",
       "      <th>268</th>\n",
       "      <td>500</td>\n",
       "      <td>11</td>\n",
       "      <td>3</td>\n",
       "      <td>2</td>\n",
       "      <td>1824</td>\n",
       "      <td>161</td>\n",
       "      <td>12</td>\n",
       "      <td>3</td>\n",
       "    </tr>\n",
       "    <tr>\n",
       "      <th>471</th>\n",
       "      <td>700</td>\n",
       "      <td>12</td>\n",
       "      <td>3</td>\n",
       "      <td>1</td>\n",
       "      <td>1830</td>\n",
       "      <td>162</td>\n",
       "      <td>6</td>\n",
       "      <td>2</td>\n",
       "    </tr>\n",
       "    <tr>\n",
       "      <th>472</th>\n",
       "      <td>700</td>\n",
       "      <td>12</td>\n",
       "      <td>3</td>\n",
       "      <td>2</td>\n",
       "      <td>1828</td>\n",
       "      <td>162</td>\n",
       "      <td>8</td>\n",
       "      <td>2</td>\n",
       "    </tr>\n",
       "    <tr>\n",
       "      <th>282</th>\n",
       "      <td>500</td>\n",
       "      <td>12</td>\n",
       "      <td>4</td>\n",
       "      <td>1</td>\n",
       "      <td>1826</td>\n",
       "      <td>162</td>\n",
       "      <td>10</td>\n",
       "      <td>2</td>\n",
       "    </tr>\n",
       "    <tr>\n",
       "      <th>279</th>\n",
       "      <td>500</td>\n",
       "      <td>12</td>\n",
       "      <td>3</td>\n",
       "      <td>1</td>\n",
       "      <td>1832</td>\n",
       "      <td>162</td>\n",
       "      <td>4</td>\n",
       "      <td>2</td>\n",
       "    </tr>\n",
       "    <tr>\n",
       "      <th>277</th>\n",
       "      <td>500</td>\n",
       "      <td>12</td>\n",
       "      <td>2</td>\n",
       "      <td>2</td>\n",
       "      <td>1825</td>\n",
       "      <td>162</td>\n",
       "      <td>11</td>\n",
       "      <td>2</td>\n",
       "    </tr>\n",
       "    <tr>\n",
       "      <th>468</th>\n",
       "      <td>700</td>\n",
       "      <td>12</td>\n",
       "      <td>2</td>\n",
       "      <td>1</td>\n",
       "      <td>1826</td>\n",
       "      <td>162</td>\n",
       "      <td>10</td>\n",
       "      <td>2</td>\n",
       "    </tr>\n",
       "    <tr>\n",
       "      <th>276</th>\n",
       "      <td>500</td>\n",
       "      <td>12</td>\n",
       "      <td>2</td>\n",
       "      <td>1</td>\n",
       "      <td>1829</td>\n",
       "      <td>162</td>\n",
       "      <td>7</td>\n",
       "      <td>2</td>\n",
       "    </tr>\n",
       "    <tr>\n",
       "      <th>474</th>\n",
       "      <td>700</td>\n",
       "      <td>12</td>\n",
       "      <td>4</td>\n",
       "      <td>1</td>\n",
       "      <td>1826</td>\n",
       "      <td>162</td>\n",
       "      <td>10</td>\n",
       "      <td>2</td>\n",
       "    </tr>\n",
       "    <tr>\n",
       "      <th>87</th>\n",
       "      <td>300</td>\n",
       "      <td>12</td>\n",
       "      <td>3</td>\n",
       "      <td>1</td>\n",
       "      <td>1827</td>\n",
       "      <td>162</td>\n",
       "      <td>9</td>\n",
       "      <td>2</td>\n",
       "    </tr>\n",
       "    <tr>\n",
       "      <th>270</th>\n",
       "      <td>500</td>\n",
       "      <td>11</td>\n",
       "      <td>4</td>\n",
       "      <td>1</td>\n",
       "      <td>1828</td>\n",
       "      <td>162</td>\n",
       "      <td>8</td>\n",
       "      <td>2</td>\n",
       "    </tr>\n",
       "    <tr>\n",
       "      <th>462</th>\n",
       "      <td>700</td>\n",
       "      <td>11</td>\n",
       "      <td>4</td>\n",
       "      <td>1</td>\n",
       "      <td>1823</td>\n",
       "      <td>162</td>\n",
       "      <td>13</td>\n",
       "      <td>2</td>\n",
       "    </tr>\n",
       "    <tr>\n",
       "      <th>459</th>\n",
       "      <td>700</td>\n",
       "      <td>11</td>\n",
       "      <td>3</td>\n",
       "      <td>1</td>\n",
       "      <td>1827</td>\n",
       "      <td>162</td>\n",
       "      <td>9</td>\n",
       "      <td>2</td>\n",
       "    </tr>\n",
       "    <tr>\n",
       "      <th>190</th>\n",
       "      <td>400</td>\n",
       "      <td>12</td>\n",
       "      <td>5</td>\n",
       "      <td>2</td>\n",
       "      <td>1823</td>\n",
       "      <td>162</td>\n",
       "      <td>13</td>\n",
       "      <td>2</td>\n",
       "    </tr>\n",
       "    <tr>\n",
       "      <th>189</th>\n",
       "      <td>400</td>\n",
       "      <td>12</td>\n",
       "      <td>5</td>\n",
       "      <td>1</td>\n",
       "      <td>1827</td>\n",
       "      <td>162</td>\n",
       "      <td>9</td>\n",
       "      <td>2</td>\n",
       "    </tr>\n",
       "    <tr>\n",
       "      <th>456</th>\n",
       "      <td>700</td>\n",
       "      <td>11</td>\n",
       "      <td>2</td>\n",
       "      <td>1</td>\n",
       "      <td>1824</td>\n",
       "      <td>162</td>\n",
       "      <td>12</td>\n",
       "      <td>2</td>\n",
       "    </tr>\n",
       "    <tr>\n",
       "      <th>85</th>\n",
       "      <td>300</td>\n",
       "      <td>12</td>\n",
       "      <td>2</td>\n",
       "      <td>2</td>\n",
       "      <td>1826</td>\n",
       "      <td>162</td>\n",
       "      <td>10</td>\n",
       "      <td>2</td>\n",
       "    </tr>\n",
       "    <tr>\n",
       "      <th>363</th>\n",
       "      <td>600</td>\n",
       "      <td>11</td>\n",
       "      <td>3</td>\n",
       "      <td>1</td>\n",
       "      <td>1826</td>\n",
       "      <td>162</td>\n",
       "      <td>10</td>\n",
       "      <td>2</td>\n",
       "    </tr>\n",
       "    <tr>\n",
       "      <th>168</th>\n",
       "      <td>400</td>\n",
       "      <td>11</td>\n",
       "      <td>2</td>\n",
       "      <td>1</td>\n",
       "      <td>1824</td>\n",
       "      <td>162</td>\n",
       "      <td>12</td>\n",
       "      <td>2</td>\n",
       "    </tr>\n",
       "    <tr>\n",
       "      <th>93</th>\n",
       "      <td>300</td>\n",
       "      <td>12</td>\n",
       "      <td>5</td>\n",
       "      <td>1</td>\n",
       "      <td>1826</td>\n",
       "      <td>162</td>\n",
       "      <td>10</td>\n",
       "      <td>2</td>\n",
       "    </tr>\n",
       "    <tr>\n",
       "      <th>360</th>\n",
       "      <td>600</td>\n",
       "      <td>11</td>\n",
       "      <td>2</td>\n",
       "      <td>1</td>\n",
       "      <td>1826</td>\n",
       "      <td>162</td>\n",
       "      <td>10</td>\n",
       "      <td>2</td>\n",
       "    </tr>\n",
       "    <tr>\n",
       "      <th>180</th>\n",
       "      <td>400</td>\n",
       "      <td>12</td>\n",
       "      <td>2</td>\n",
       "      <td>1</td>\n",
       "      <td>1829</td>\n",
       "      <td>163</td>\n",
       "      <td>7</td>\n",
       "      <td>1</td>\n",
       "    </tr>\n",
       "    <tr>\n",
       "      <th>372</th>\n",
       "      <td>600</td>\n",
       "      <td>12</td>\n",
       "      <td>2</td>\n",
       "      <td>1</td>\n",
       "      <td>1828</td>\n",
       "      <td>163</td>\n",
       "      <td>8</td>\n",
       "      <td>1</td>\n",
       "    </tr>\n",
       "    <tr>\n",
       "      <th>375</th>\n",
       "      <td>600</td>\n",
       "      <td>12</td>\n",
       "      <td>3</td>\n",
       "      <td>1</td>\n",
       "      <td>1828</td>\n",
       "      <td>163</td>\n",
       "      <td>8</td>\n",
       "      <td>1</td>\n",
       "    </tr>\n",
       "    <tr>\n",
       "      <th>72</th>\n",
       "      <td>300</td>\n",
       "      <td>11</td>\n",
       "      <td>2</td>\n",
       "      <td>1</td>\n",
       "      <td>1826</td>\n",
       "      <td>163</td>\n",
       "      <td>10</td>\n",
       "      <td>1</td>\n",
       "    </tr>\n",
       "  </tbody>\n",
       "</table>\n",
       "<p>480 rows × 8 columns</p>\n",
       "</div>"
      ],
      "text/plain": [
       "     n_estimates  max_d  min_samples_split  mins_samples_leaf    TN   FN   FP  \\\n",
       "9            300      5                  5                  1  1658  124  178   \n",
       "203          500      5                  5                  3  1653  124  183   \n",
       "192          500      5                  2                  1  1651  125  185   \n",
       "98           400      5                  2                  3  1644  125  192   \n",
       "103          400      5                  4                  2  1640  126  196   \n",
       "8            300      5                  4                  3  1642  126  194   \n",
       "196          500      5                  3                  2  1652  126  184   \n",
       "198          500      5                  4                  1  1649  126  187   \n",
       "298          600      5                  5                  2  1663  126  173   \n",
       "394          700      5                  5                  2  1661  127  175   \n",
       "200          500      5                  4                  3  1646  127  190   \n",
       "296          600      5                  4                  3  1656  127  180   \n",
       "194          500      5                  2                  3  1653  127  183   \n",
       "291          600      5                  3                  1  1662  128  174   \n",
       "292          600      5                  3                  2  1656  128  180   \n",
       "294          600      5                  4                  1  1653  128  183   \n",
       "388          700      5                  3                  2  1659  128  177   \n",
       "193          500      5                  2                  2  1654  128  182   \n",
       "195          500      5                  3                  1  1663  128  173   \n",
       "384          700      5                  2                  1  1660  129  176   \n",
       "107          400      5                  5                  3  1652  129  184   \n",
       "297          600      5                  5                  1  1665  129  171   \n",
       "101          400      5                  3                  3  1660  129  176   \n",
       "201          500      5                  5                  1  1667  129  169   \n",
       "5            300      5                  3                  3  1645  129  191   \n",
       "3            300      5                  3                  1  1656  129  180   \n",
       "2            300      5                  2                  3  1665  129  171   \n",
       "197          500      5                  3                  3  1656  129  180   \n",
       "389          700      5                  3                  3  1670  130  166   \n",
       "1            300      5                  2                  2  1658  130  178   \n",
       "..           ...    ...                ...                ...   ...  ...  ...   \n",
       "175          400     11                  4                  2  1822  161   14   \n",
       "177          400     11                  5                  1  1823  161   13   \n",
       "383          600     12                  5                  3  1826  161   10   \n",
       "382          600     12                  5                  2  1828  161    8   \n",
       "381          600     12                  5                  1  1827  161    9   \n",
       "268          500     11                  3                  2  1824  161   12   \n",
       "471          700     12                  3                  1  1830  162    6   \n",
       "472          700     12                  3                  2  1828  162    8   \n",
       "282          500     12                  4                  1  1826  162   10   \n",
       "279          500     12                  3                  1  1832  162    4   \n",
       "277          500     12                  2                  2  1825  162   11   \n",
       "468          700     12                  2                  1  1826  162   10   \n",
       "276          500     12                  2                  1  1829  162    7   \n",
       "474          700     12                  4                  1  1826  162   10   \n",
       "87           300     12                  3                  1  1827  162    9   \n",
       "270          500     11                  4                  1  1828  162    8   \n",
       "462          700     11                  4                  1  1823  162   13   \n",
       "459          700     11                  3                  1  1827  162    9   \n",
       "190          400     12                  5                  2  1823  162   13   \n",
       "189          400     12                  5                  1  1827  162    9   \n",
       "456          700     11                  2                  1  1824  162   12   \n",
       "85           300     12                  2                  2  1826  162   10   \n",
       "363          600     11                  3                  1  1826  162   10   \n",
       "168          400     11                  2                  1  1824  162   12   \n",
       "93           300     12                  5                  1  1826  162   10   \n",
       "360          600     11                  2                  1  1826  162   10   \n",
       "180          400     12                  2                  1  1829  163    7   \n",
       "372          600     12                  2                  1  1828  163    8   \n",
       "375          600     12                  3                  1  1828  163    8   \n",
       "72           300     11                  2                  1  1826  163   10   \n",
       "\n",
       "     TP  \n",
       "9    40  \n",
       "203  40  \n",
       "192  39  \n",
       "98   39  \n",
       "103  38  \n",
       "8    38  \n",
       "196  38  \n",
       "198  38  \n",
       "298  38  \n",
       "394  37  \n",
       "200  37  \n",
       "296  37  \n",
       "194  37  \n",
       "291  36  \n",
       "292  36  \n",
       "294  36  \n",
       "388  36  \n",
       "193  36  \n",
       "195  36  \n",
       "384  35  \n",
       "107  35  \n",
       "297  35  \n",
       "101  35  \n",
       "201  35  \n",
       "5    35  \n",
       "3    35  \n",
       "2    35  \n",
       "197  35  \n",
       "389  34  \n",
       "1    34  \n",
       "..   ..  \n",
       "175   3  \n",
       "177   3  \n",
       "383   3  \n",
       "382   3  \n",
       "381   3  \n",
       "268   3  \n",
       "471   2  \n",
       "472   2  \n",
       "282   2  \n",
       "279   2  \n",
       "277   2  \n",
       "468   2  \n",
       "276   2  \n",
       "474   2  \n",
       "87    2  \n",
       "270   2  \n",
       "462   2  \n",
       "459   2  \n",
       "190   2  \n",
       "189   2  \n",
       "456   2  \n",
       "85    2  \n",
       "363   2  \n",
       "168   2  \n",
       "93    2  \n",
       "360   2  \n",
       "180   1  \n",
       "372   1  \n",
       "375   1  \n",
       "72    1  \n",
       "\n",
       "[480 rows x 8 columns]"
      ]
     },
     "execution_count": 97,
     "metadata": {},
     "output_type": "execute_result"
    }
   ],
   "source": [
    "results.sort_values(by='TP',ascending=False)"
   ]
  },
  {
   "cell_type": "code",
   "execution_count": null,
   "metadata": {},
   "outputs": [],
   "source": []
  }
 ],
 "metadata": {
  "kernelspec": {
   "display_name": "Python 3",
   "language": "python",
   "name": "python3"
  },
  "language_info": {
   "codemirror_mode": {
    "name": "ipython",
    "version": 3
   },
   "file_extension": ".py",
   "mimetype": "text/x-python",
   "name": "python",
   "nbconvert_exporter": "python",
   "pygments_lexer": "ipython3",
   "version": "3.6.0"
  }
 },
 "nbformat": 4,
 "nbformat_minor": 2
}
